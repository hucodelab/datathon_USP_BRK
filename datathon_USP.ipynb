{
 "cells": [
  {
   "cell_type": "markdown",
   "id": "5da5ec76",
   "metadata": {},
   "source": [
    "# Dados SNIS 2019"
   ]
  },
  {
   "cell_type": "code",
   "execution_count": 1,
   "id": "7e34011c",
   "metadata": {},
   "outputs": [],
   "source": [
    "import numpy as np\n",
    "import pandas as pd"
   ]
  },
  {
   "cell_type": "code",
   "execution_count": 2,
   "id": "a1312e0a",
   "metadata": {},
   "outputs": [],
   "source": [
    "def load_and_clean(nome_arquivo):\n",
    "    df = pd.read_csv(nome_arquivo, sep=\";\")\n",
    "    \n",
    "    # As colunas ficaram movidas, entao iremos fazer drop na ultima coluna e renomear todas as colunas\n",
    "    new_columns = list(df.columns)[1:]\n",
    "    \n",
    "    df = df.drop([\n",
    "        'TB012 - Quantidade de empregados administrativos dos agentes privados (Antigo campo GE051)'],\n",
    "        axis=1)\n",
    "    \n",
    "    df.columns = new_columns \n",
    "    \n",
    "    # há muitas colunas com values 0 e '0', vamos substituir por nan\n",
    "    df = df.replace(0, np.nan)\n",
    "    df = df.replace(\"0\", np.nan)\n",
    "    df = df.replace(\"0,00\", np.nan)\n",
    "    return df"
   ]
  },
  {
   "cell_type": "code",
   "execution_count": 3,
   "id": "99263c73",
   "metadata": {},
   "outputs": [],
   "source": [
    "df = load_and_clean('novo2.csv')"
   ]
  },
  {
   "cell_type": "code",
   "execution_count": 4,
   "id": "580fb78e",
   "metadata": {},
   "outputs": [
    {
     "data": {
      "text/html": [
       "<div>\n",
       "<style scoped>\n",
       "    .dataframe tbody tr th:only-of-type {\n",
       "        vertical-align: middle;\n",
       "    }\n",
       "\n",
       "    .dataframe tbody tr th {\n",
       "        vertical-align: top;\n",
       "    }\n",
       "\n",
       "    .dataframe thead th {\n",
       "        text-align: right;\n",
       "    }\n",
       "</style>\n",
       "<table border=\"1\" class=\"dataframe\">\n",
       "  <thead>\n",
       "    <tr style=\"text-align: right;\">\n",
       "      <th></th>\n",
       "      <th>Código do Município</th>\n",
       "      <th>Município</th>\n",
       "      <th>Estado</th>\n",
       "      <th>Ano de Referência</th>\n",
       "      <th>Prestadores</th>\n",
       "      <th>Serviços</th>\n",
       "      <th>Natureza Jurídica</th>\n",
       "      <th>FN001 - Receita operacional direta total</th>\n",
       "      <th>FN002 - Receita operacional direta de água</th>\n",
       "      <th>FN003 - Receita operacional direta de esgoto</th>\n",
       "      <th>...</th>\n",
       "      <th>QD009 - Quantidade de amostras para turbidez fora do padrão</th>\n",
       "      <th>QD011 - Quantidades de extravasamentos de esgotos registrados</th>\n",
       "      <th>QD012 - Duração dos extravasamentos registrados</th>\n",
       "      <th>QD021 - Quantidade de interrupções sistemáticas</th>\n",
       "      <th>QD022 - Duração das interrupções sistemáticas</th>\n",
       "      <th>QD023 - Quantidade de reclamações ou solicitações de serviços</th>\n",
       "      <th>QD024 - Quantidade de serviços executados</th>\n",
       "      <th>QD025 - Tempo total de execução dos serviços</th>\n",
       "      <th>TB011 - Quantidade de empregados administrativos dos agentes públicos (Antigo campo GE050)</th>\n",
       "      <th>TB012 - Quantidade de empregados administrativos dos agentes privados (Antigo campo GE051)</th>\n",
       "    </tr>\n",
       "  </thead>\n",
       "  <tbody>\n",
       "    <tr>\n",
       "      <th>1200013</th>\n",
       "      <td>120001</td>\n",
       "      <td>Acrelândia</td>\n",
       "      <td>AC</td>\n",
       "      <td>2019</td>\n",
       "      <td>[12004000] Departamento Estadual de Pavimentaç...</td>\n",
       "      <td>Água</td>\n",
       "      <td>Autarquia</td>\n",
       "      <td>663.546,06</td>\n",
       "      <td>663.546,06</td>\n",
       "      <td>NaN</td>\n",
       "      <td>...</td>\n",
       "      <td>112.0</td>\n",
       "      <td>NaN</td>\n",
       "      <td>NaN</td>\n",
       "      <td>365.0</td>\n",
       "      <td>3.650,00</td>\n",
       "      <td>568</td>\n",
       "      <td>464</td>\n",
       "      <td>6.336,00</td>\n",
       "      <td>NaN</td>\n",
       "      <td>NaN</td>\n",
       "    </tr>\n",
       "    <tr>\n",
       "      <th>1200054</th>\n",
       "      <td>120005</td>\n",
       "      <td>Assis Brasil</td>\n",
       "      <td>AC</td>\n",
       "      <td>2019</td>\n",
       "      <td>[12004000] Departamento Estadual de Pavimentaç...</td>\n",
       "      <td>Água | Res. Sólidos</td>\n",
       "      <td>Autarquia | Administração pública direta</td>\n",
       "      <td>723.713,71</td>\n",
       "      <td>723.713,71</td>\n",
       "      <td>NaN</td>\n",
       "      <td>...</td>\n",
       "      <td>NaN</td>\n",
       "      <td>NaN</td>\n",
       "      <td>NaN</td>\n",
       "      <td>12.0</td>\n",
       "      <td>730,00</td>\n",
       "      <td>515</td>\n",
       "      <td>491</td>\n",
       "      <td>6.336,00</td>\n",
       "      <td>4.0</td>\n",
       "      <td>NaN</td>\n",
       "    </tr>\n",
       "    <tr>\n",
       "      <th>1200104</th>\n",
       "      <td>120010</td>\n",
       "      <td>Brasiléia</td>\n",
       "      <td>AC</td>\n",
       "      <td>2019</td>\n",
       "      <td>[12004000] Departamento Estadual de Pavimentaç...</td>\n",
       "      <td>Água | Res. Sólidos</td>\n",
       "      <td>Autarquia | Administração pública direta</td>\n",
       "      <td>1.984.882,66</td>\n",
       "      <td>1.984.882,66</td>\n",
       "      <td>NaN</td>\n",
       "      <td>...</td>\n",
       "      <td>NaN</td>\n",
       "      <td>NaN</td>\n",
       "      <td>NaN</td>\n",
       "      <td>365.0</td>\n",
       "      <td>2.190,00</td>\n",
       "      <td>1.059</td>\n",
       "      <td>1.001</td>\n",
       "      <td>14.784,00</td>\n",
       "      <td>3.0</td>\n",
       "      <td>NaN</td>\n",
       "    </tr>\n",
       "    <tr>\n",
       "      <th>1200138</th>\n",
       "      <td>120013</td>\n",
       "      <td>Bujari</td>\n",
       "      <td>AC</td>\n",
       "      <td>2019</td>\n",
       "      <td>[12004000] Departamento Estadual de Pavimentaç...</td>\n",
       "      <td>Água | Res. Sólidos</td>\n",
       "      <td>Autarquia | Administração pública direta</td>\n",
       "      <td>647.261,88</td>\n",
       "      <td>647.261,88</td>\n",
       "      <td>NaN</td>\n",
       "      <td>...</td>\n",
       "      <td>109.0</td>\n",
       "      <td>NaN</td>\n",
       "      <td>NaN</td>\n",
       "      <td>365.0</td>\n",
       "      <td>4.380,00</td>\n",
       "      <td>177</td>\n",
       "      <td>155</td>\n",
       "      <td>6.336,00</td>\n",
       "      <td>2.0</td>\n",
       "      <td>NaN</td>\n",
       "    </tr>\n",
       "    <tr>\n",
       "      <th>1200179</th>\n",
       "      <td>120017</td>\n",
       "      <td>Capixaba</td>\n",
       "      <td>AC</td>\n",
       "      <td>2019</td>\n",
       "      <td>[12004000] Departamento Estadual de Pavimentaç...</td>\n",
       "      <td>Água | Res. Sólidos</td>\n",
       "      <td>Autarquia | Administração pública direta</td>\n",
       "      <td>602.726,79</td>\n",
       "      <td>602.726,79</td>\n",
       "      <td>NaN</td>\n",
       "      <td>...</td>\n",
       "      <td>55.0</td>\n",
       "      <td>NaN</td>\n",
       "      <td>NaN</td>\n",
       "      <td>12.0</td>\n",
       "      <td>5.110,00</td>\n",
       "      <td>235</td>\n",
       "      <td>216</td>\n",
       "      <td>4.224,00</td>\n",
       "      <td>1.0</td>\n",
       "      <td>NaN</td>\n",
       "    </tr>\n",
       "  </tbody>\n",
       "</table>\n",
       "<p>5 rows × 62 columns</p>\n",
       "</div>"
      ],
      "text/plain": [
       "         Código do Município     Município Estado  Ano de Referência  \\\n",
       "1200013               120001    Acrelândia     AC               2019   \n",
       "1200054               120005  Assis Brasil     AC               2019   \n",
       "1200104               120010     Brasiléia     AC               2019   \n",
       "1200138               120013        Bujari     AC               2019   \n",
       "1200179               120017      Capixaba     AC               2019   \n",
       "\n",
       "                                               Prestadores  \\\n",
       "1200013  [12004000] Departamento Estadual de Pavimentaç...   \n",
       "1200054  [12004000] Departamento Estadual de Pavimentaç...   \n",
       "1200104  [12004000] Departamento Estadual de Pavimentaç...   \n",
       "1200138  [12004000] Departamento Estadual de Pavimentaç...   \n",
       "1200179  [12004000] Departamento Estadual de Pavimentaç...   \n",
       "\n",
       "                    Serviços                         Natureza Jurídica  \\\n",
       "1200013                 Água                                 Autarquia   \n",
       "1200054  Água | Res. Sólidos  Autarquia | Administração pública direta   \n",
       "1200104  Água | Res. Sólidos  Autarquia | Administração pública direta   \n",
       "1200138  Água | Res. Sólidos  Autarquia | Administração pública direta   \n",
       "1200179  Água | Res. Sólidos  Autarquia | Administração pública direta   \n",
       "\n",
       "        FN001 - Receita operacional direta total  \\\n",
       "1200013                               663.546,06   \n",
       "1200054                               723.713,71   \n",
       "1200104                             1.984.882,66   \n",
       "1200138                               647.261,88   \n",
       "1200179                               602.726,79   \n",
       "\n",
       "        FN002 - Receita operacional direta de água  \\\n",
       "1200013                                 663.546,06   \n",
       "1200054                                 723.713,71   \n",
       "1200104                               1.984.882,66   \n",
       "1200138                                 647.261,88   \n",
       "1200179                                 602.726,79   \n",
       "\n",
       "        FN003 - Receita operacional direta de esgoto  ...  \\\n",
       "1200013                                          NaN  ...   \n",
       "1200054                                          NaN  ...   \n",
       "1200104                                          NaN  ...   \n",
       "1200138                                          NaN  ...   \n",
       "1200179                                          NaN  ...   \n",
       "\n",
       "        QD009 - Quantidade de amostras para turbidez fora do padrão  \\\n",
       "1200013                                              112.0            \n",
       "1200054                                                NaN            \n",
       "1200104                                                NaN            \n",
       "1200138                                              109.0            \n",
       "1200179                                               55.0            \n",
       "\n",
       "        QD011 - Quantidades de extravasamentos de esgotos registrados  \\\n",
       "1200013                                                NaN              \n",
       "1200054                                                NaN              \n",
       "1200104                                                NaN              \n",
       "1200138                                                NaN              \n",
       "1200179                                                NaN              \n",
       "\n",
       "        QD012 - Duração dos extravasamentos registrados  \\\n",
       "1200013                                             NaN   \n",
       "1200054                                             NaN   \n",
       "1200104                                             NaN   \n",
       "1200138                                             NaN   \n",
       "1200179                                             NaN   \n",
       "\n",
       "        QD021 - Quantidade de interrupções sistemáticas  \\\n",
       "1200013                                           365.0   \n",
       "1200054                                            12.0   \n",
       "1200104                                           365.0   \n",
       "1200138                                           365.0   \n",
       "1200179                                            12.0   \n",
       "\n",
       "        QD022 - Duração das interrupções sistemáticas  \\\n",
       "1200013                                      3.650,00   \n",
       "1200054                                        730,00   \n",
       "1200104                                      2.190,00   \n",
       "1200138                                      4.380,00   \n",
       "1200179                                      5.110,00   \n",
       "\n",
       "        QD023 - Quantidade de reclamações ou solicitações de serviços  \\\n",
       "1200013                                                568              \n",
       "1200054                                                515              \n",
       "1200104                                              1.059              \n",
       "1200138                                                177              \n",
       "1200179                                                235              \n",
       "\n",
       "        QD024 - Quantidade de serviços executados  \\\n",
       "1200013                                       464   \n",
       "1200054                                       491   \n",
       "1200104                                     1.001   \n",
       "1200138                                       155   \n",
       "1200179                                       216   \n",
       "\n",
       "        QD025 - Tempo total de execução dos serviços  \\\n",
       "1200013                                     6.336,00   \n",
       "1200054                                     6.336,00   \n",
       "1200104                                    14.784,00   \n",
       "1200138                                     6.336,00   \n",
       "1200179                                     4.224,00   \n",
       "\n",
       "        TB011 - Quantidade de empregados administrativos dos agentes públicos (Antigo campo GE050)  \\\n",
       "1200013                                                NaN                                           \n",
       "1200054                                                4.0                                           \n",
       "1200104                                                3.0                                           \n",
       "1200138                                                2.0                                           \n",
       "1200179                                                1.0                                           \n",
       "\n",
       "        TB012 - Quantidade de empregados administrativos dos agentes privados (Antigo campo GE051)  \n",
       "1200013                                                NaN                                          \n",
       "1200054                                                NaN                                          \n",
       "1200104                                                NaN                                          \n",
       "1200138                                                NaN                                          \n",
       "1200179                                                NaN                                          \n",
       "\n",
       "[5 rows x 62 columns]"
      ]
     },
     "execution_count": 4,
     "metadata": {},
     "output_type": "execute_result"
    }
   ],
   "source": [
    "df.head()"
   ]
  },
  {
   "cell_type": "code",
   "execution_count": 5,
   "id": "f5116c4d",
   "metadata": {},
   "outputs": [
    {
     "data": {
      "text/html": [
       "<div>\n",
       "<style scoped>\n",
       "    .dataframe tbody tr th:only-of-type {\n",
       "        vertical-align: middle;\n",
       "    }\n",
       "\n",
       "    .dataframe tbody tr th {\n",
       "        vertical-align: top;\n",
       "    }\n",
       "\n",
       "    .dataframe thead th {\n",
       "        text-align: right;\n",
       "    }\n",
       "</style>\n",
       "<table border=\"1\" class=\"dataframe\">\n",
       "  <thead>\n",
       "    <tr style=\"text-align: right;\">\n",
       "      <th></th>\n",
       "      <th>Estado</th>\n",
       "      <th>Município</th>\n",
       "      <th>POPULAÇÃO ESTIMADA</th>\n",
       "    </tr>\n",
       "  </thead>\n",
       "  <tbody>\n",
       "    <tr>\n",
       "      <th>0</th>\n",
       "      <td>RO</td>\n",
       "      <td>Alta Floresta D'Oeste</td>\n",
       "      <td>22945</td>\n",
       "    </tr>\n",
       "    <tr>\n",
       "      <th>1</th>\n",
       "      <td>RO</td>\n",
       "      <td>Ariquemes</td>\n",
       "      <td>107863</td>\n",
       "    </tr>\n",
       "    <tr>\n",
       "      <th>2</th>\n",
       "      <td>RO</td>\n",
       "      <td>Cabixi</td>\n",
       "      <td>5312</td>\n",
       "    </tr>\n",
       "    <tr>\n",
       "      <th>3</th>\n",
       "      <td>RO</td>\n",
       "      <td>Cacoal</td>\n",
       "      <td>85359</td>\n",
       "    </tr>\n",
       "    <tr>\n",
       "      <th>4</th>\n",
       "      <td>RO</td>\n",
       "      <td>Cerejeiras</td>\n",
       "      <td>16323</td>\n",
       "    </tr>\n",
       "  </tbody>\n",
       "</table>\n",
       "</div>"
      ],
      "text/plain": [
       "  Estado              Município POPULAÇÃO ESTIMADA\n",
       "0     RO  Alta Floresta D'Oeste              22945\n",
       "1     RO              Ariquemes             107863\n",
       "2     RO                 Cabixi               5312\n",
       "3     RO                 Cacoal              85359\n",
       "4     RO             Cerejeiras              16323"
      ]
     },
     "execution_count": 5,
     "metadata": {},
     "output_type": "execute_result"
    }
   ],
   "source": [
    "df_population = pd.read_excel(\n",
    "    'estimativa_dou_2019.xls', dtype='str', skiprows=1).drop([\n",
    "    'COD. UF', 'COD. MUNIC'], axis=1).rename(columns={'NOME DO MUNICÍPIO' : 'Município', 'UF': 'Estado'})\n",
    "df_population.head()"
   ]
  },
  {
   "cell_type": "markdown",
   "id": "75629262",
   "metadata": {},
   "source": [
    "# Merge no df SNIS com o df de populacao"
   ]
  },
  {
   "cell_type": "code",
   "execution_count": 6,
   "id": "c6a7964f",
   "metadata": {},
   "outputs": [
    {
     "data": {
      "text/html": [
       "<div>\n",
       "<style scoped>\n",
       "    .dataframe tbody tr th:only-of-type {\n",
       "        vertical-align: middle;\n",
       "    }\n",
       "\n",
       "    .dataframe tbody tr th {\n",
       "        vertical-align: top;\n",
       "    }\n",
       "\n",
       "    .dataframe thead th {\n",
       "        text-align: right;\n",
       "    }\n",
       "</style>\n",
       "<table border=\"1\" class=\"dataframe\">\n",
       "  <thead>\n",
       "    <tr style=\"text-align: right;\">\n",
       "      <th></th>\n",
       "      <th>Código do Município</th>\n",
       "      <th>Município</th>\n",
       "      <th>Estado</th>\n",
       "      <th>Ano de Referência</th>\n",
       "      <th>Prestadores</th>\n",
       "      <th>Serviços</th>\n",
       "      <th>Natureza Jurídica</th>\n",
       "      <th>FN001 - Receita operacional direta total</th>\n",
       "      <th>FN002 - Receita operacional direta de água</th>\n",
       "      <th>FN003 - Receita operacional direta de esgoto</th>\n",
       "      <th>...</th>\n",
       "      <th>QD011 - Quantidades de extravasamentos de esgotos registrados</th>\n",
       "      <th>QD012 - Duração dos extravasamentos registrados</th>\n",
       "      <th>QD021 - Quantidade de interrupções sistemáticas</th>\n",
       "      <th>QD022 - Duração das interrupções sistemáticas</th>\n",
       "      <th>QD023 - Quantidade de reclamações ou solicitações de serviços</th>\n",
       "      <th>QD024 - Quantidade de serviços executados</th>\n",
       "      <th>QD025 - Tempo total de execução dos serviços</th>\n",
       "      <th>TB011 - Quantidade de empregados administrativos dos agentes públicos (Antigo campo GE050)</th>\n",
       "      <th>TB012 - Quantidade de empregados administrativos dos agentes privados (Antigo campo GE051)</th>\n",
       "      <th>POPULAÇÃO ESTIMADA</th>\n",
       "    </tr>\n",
       "  </thead>\n",
       "  <tbody>\n",
       "    <tr>\n",
       "      <th>0</th>\n",
       "      <td>120001</td>\n",
       "      <td>Acrelândia</td>\n",
       "      <td>AC</td>\n",
       "      <td>2019</td>\n",
       "      <td>[12004000] Departamento Estadual de Pavimentaç...</td>\n",
       "      <td>Água</td>\n",
       "      <td>Autarquia</td>\n",
       "      <td>663.546,06</td>\n",
       "      <td>663.546,06</td>\n",
       "      <td>NaN</td>\n",
       "      <td>...</td>\n",
       "      <td>NaN</td>\n",
       "      <td>NaN</td>\n",
       "      <td>365.0</td>\n",
       "      <td>3.650,00</td>\n",
       "      <td>568</td>\n",
       "      <td>464</td>\n",
       "      <td>6.336,00</td>\n",
       "      <td>NaN</td>\n",
       "      <td>NaN</td>\n",
       "      <td>15256</td>\n",
       "    </tr>\n",
       "    <tr>\n",
       "      <th>1</th>\n",
       "      <td>120005</td>\n",
       "      <td>Assis Brasil</td>\n",
       "      <td>AC</td>\n",
       "      <td>2019</td>\n",
       "      <td>[12004000] Departamento Estadual de Pavimentaç...</td>\n",
       "      <td>Água | Res. Sólidos</td>\n",
       "      <td>Autarquia | Administração pública direta</td>\n",
       "      <td>723.713,71</td>\n",
       "      <td>723.713,71</td>\n",
       "      <td>NaN</td>\n",
       "      <td>...</td>\n",
       "      <td>NaN</td>\n",
       "      <td>NaN</td>\n",
       "      <td>12.0</td>\n",
       "      <td>730,00</td>\n",
       "      <td>515</td>\n",
       "      <td>491</td>\n",
       "      <td>6.336,00</td>\n",
       "      <td>4.0</td>\n",
       "      <td>NaN</td>\n",
       "      <td>7417</td>\n",
       "    </tr>\n",
       "    <tr>\n",
       "      <th>2</th>\n",
       "      <td>120010</td>\n",
       "      <td>Brasiléia</td>\n",
       "      <td>AC</td>\n",
       "      <td>2019</td>\n",
       "      <td>[12004000] Departamento Estadual de Pavimentaç...</td>\n",
       "      <td>Água | Res. Sólidos</td>\n",
       "      <td>Autarquia | Administração pública direta</td>\n",
       "      <td>1.984.882,66</td>\n",
       "      <td>1.984.882,66</td>\n",
       "      <td>NaN</td>\n",
       "      <td>...</td>\n",
       "      <td>NaN</td>\n",
       "      <td>NaN</td>\n",
       "      <td>365.0</td>\n",
       "      <td>2.190,00</td>\n",
       "      <td>1.059</td>\n",
       "      <td>1.001</td>\n",
       "      <td>14.784,00</td>\n",
       "      <td>3.0</td>\n",
       "      <td>NaN</td>\n",
       "      <td>26278</td>\n",
       "    </tr>\n",
       "    <tr>\n",
       "      <th>3</th>\n",
       "      <td>120013</td>\n",
       "      <td>Bujari</td>\n",
       "      <td>AC</td>\n",
       "      <td>2019</td>\n",
       "      <td>[12004000] Departamento Estadual de Pavimentaç...</td>\n",
       "      <td>Água | Res. Sólidos</td>\n",
       "      <td>Autarquia | Administração pública direta</td>\n",
       "      <td>647.261,88</td>\n",
       "      <td>647.261,88</td>\n",
       "      <td>NaN</td>\n",
       "      <td>...</td>\n",
       "      <td>NaN</td>\n",
       "      <td>NaN</td>\n",
       "      <td>365.0</td>\n",
       "      <td>4.380,00</td>\n",
       "      <td>177</td>\n",
       "      <td>155</td>\n",
       "      <td>6.336,00</td>\n",
       "      <td>2.0</td>\n",
       "      <td>NaN</td>\n",
       "      <td>10266</td>\n",
       "    </tr>\n",
       "    <tr>\n",
       "      <th>4</th>\n",
       "      <td>120017</td>\n",
       "      <td>Capixaba</td>\n",
       "      <td>AC</td>\n",
       "      <td>2019</td>\n",
       "      <td>[12004000] Departamento Estadual de Pavimentaç...</td>\n",
       "      <td>Água | Res. Sólidos</td>\n",
       "      <td>Autarquia | Administração pública direta</td>\n",
       "      <td>602.726,79</td>\n",
       "      <td>602.726,79</td>\n",
       "      <td>NaN</td>\n",
       "      <td>...</td>\n",
       "      <td>NaN</td>\n",
       "      <td>NaN</td>\n",
       "      <td>12.0</td>\n",
       "      <td>5.110,00</td>\n",
       "      <td>235</td>\n",
       "      <td>216</td>\n",
       "      <td>4.224,00</td>\n",
       "      <td>1.0</td>\n",
       "      <td>NaN</td>\n",
       "      <td>11733</td>\n",
       "    </tr>\n",
       "  </tbody>\n",
       "</table>\n",
       "<p>5 rows × 63 columns</p>\n",
       "</div>"
      ],
      "text/plain": [
       "   Código do Município     Município Estado  Ano de Referência  \\\n",
       "0               120001    Acrelândia     AC               2019   \n",
       "1               120005  Assis Brasil     AC               2019   \n",
       "2               120010     Brasiléia     AC               2019   \n",
       "3               120013        Bujari     AC               2019   \n",
       "4               120017      Capixaba     AC               2019   \n",
       "\n",
       "                                         Prestadores             Serviços  \\\n",
       "0  [12004000] Departamento Estadual de Pavimentaç...                 Água   \n",
       "1  [12004000] Departamento Estadual de Pavimentaç...  Água | Res. Sólidos   \n",
       "2  [12004000] Departamento Estadual de Pavimentaç...  Água | Res. Sólidos   \n",
       "3  [12004000] Departamento Estadual de Pavimentaç...  Água | Res. Sólidos   \n",
       "4  [12004000] Departamento Estadual de Pavimentaç...  Água | Res. Sólidos   \n",
       "\n",
       "                          Natureza Jurídica  \\\n",
       "0                                 Autarquia   \n",
       "1  Autarquia | Administração pública direta   \n",
       "2  Autarquia | Administração pública direta   \n",
       "3  Autarquia | Administração pública direta   \n",
       "4  Autarquia | Administração pública direta   \n",
       "\n",
       "  FN001 - Receita operacional direta total  \\\n",
       "0                               663.546,06   \n",
       "1                               723.713,71   \n",
       "2                             1.984.882,66   \n",
       "3                               647.261,88   \n",
       "4                               602.726,79   \n",
       "\n",
       "  FN002 - Receita operacional direta de água  \\\n",
       "0                                 663.546,06   \n",
       "1                                 723.713,71   \n",
       "2                               1.984.882,66   \n",
       "3                                 647.261,88   \n",
       "4                                 602.726,79   \n",
       "\n",
       "  FN003 - Receita operacional direta de esgoto  ...  \\\n",
       "0                                          NaN  ...   \n",
       "1                                          NaN  ...   \n",
       "2                                          NaN  ...   \n",
       "3                                          NaN  ...   \n",
       "4                                          NaN  ...   \n",
       "\n",
       "  QD011 - Quantidades de extravasamentos de esgotos registrados  \\\n",
       "0                                                NaN              \n",
       "1                                                NaN              \n",
       "2                                                NaN              \n",
       "3                                                NaN              \n",
       "4                                                NaN              \n",
       "\n",
       "  QD012 - Duração dos extravasamentos registrados  \\\n",
       "0                                             NaN   \n",
       "1                                             NaN   \n",
       "2                                             NaN   \n",
       "3                                             NaN   \n",
       "4                                             NaN   \n",
       "\n",
       "  QD021 - Quantidade de interrupções sistemáticas  \\\n",
       "0                                           365.0   \n",
       "1                                            12.0   \n",
       "2                                           365.0   \n",
       "3                                           365.0   \n",
       "4                                            12.0   \n",
       "\n",
       "  QD022 - Duração das interrupções sistemáticas  \\\n",
       "0                                      3.650,00   \n",
       "1                                        730,00   \n",
       "2                                      2.190,00   \n",
       "3                                      4.380,00   \n",
       "4                                      5.110,00   \n",
       "\n",
       "  QD023 - Quantidade de reclamações ou solicitações de serviços  \\\n",
       "0                                                568              \n",
       "1                                                515              \n",
       "2                                              1.059              \n",
       "3                                                177              \n",
       "4                                                235              \n",
       "\n",
       "  QD024 - Quantidade de serviços executados  \\\n",
       "0                                       464   \n",
       "1                                       491   \n",
       "2                                     1.001   \n",
       "3                                       155   \n",
       "4                                       216   \n",
       "\n",
       "  QD025 - Tempo total de execução dos serviços  \\\n",
       "0                                     6.336,00   \n",
       "1                                     6.336,00   \n",
       "2                                    14.784,00   \n",
       "3                                     6.336,00   \n",
       "4                                     4.224,00   \n",
       "\n",
       "  TB011 - Quantidade de empregados administrativos dos agentes públicos (Antigo campo GE050)  \\\n",
       "0                                                NaN                                           \n",
       "1                                                4.0                                           \n",
       "2                                                3.0                                           \n",
       "3                                                2.0                                           \n",
       "4                                                1.0                                           \n",
       "\n",
       "  TB012 - Quantidade de empregados administrativos dos agentes privados (Antigo campo GE051)  \\\n",
       "0                                                NaN                                           \n",
       "1                                                NaN                                           \n",
       "2                                                NaN                                           \n",
       "3                                                NaN                                           \n",
       "4                                                NaN                                           \n",
       "\n",
       "  POPULAÇÃO ESTIMADA  \n",
       "0              15256  \n",
       "1               7417  \n",
       "2              26278  \n",
       "3              10266  \n",
       "4              11733  \n",
       "\n",
       "[5 rows x 63 columns]"
      ]
     },
     "execution_count": 6,
     "metadata": {},
     "output_type": "execute_result"
    }
   ],
   "source": [
    "df_SNIS_pop = df.merge(df_population, how='left', on=['Município', 'Estado'])\n",
    "df_SNIS_pop.head()"
   ]
  },
  {
   "cell_type": "markdown",
   "id": "3da38abf",
   "metadata": {},
   "source": [
    "vamos descartar as colunas que possuem mais de 5000 nan"
   ]
  },
  {
   "cell_type": "code",
   "execution_count": 7,
   "id": "f8ffe1ea",
   "metadata": {},
   "outputs": [
    {
     "data": {
      "text/html": [
       "<div>\n",
       "<style scoped>\n",
       "    .dataframe tbody tr th:only-of-type {\n",
       "        vertical-align: middle;\n",
       "    }\n",
       "\n",
       "    .dataframe tbody tr th {\n",
       "        vertical-align: top;\n",
       "    }\n",
       "\n",
       "    .dataframe thead th {\n",
       "        text-align: right;\n",
       "    }\n",
       "</style>\n",
       "<table border=\"1\" class=\"dataframe\">\n",
       "  <thead>\n",
       "    <tr style=\"text-align: right;\">\n",
       "      <th></th>\n",
       "      <th>Código do Município</th>\n",
       "      <th>Município</th>\n",
       "      <th>Estado</th>\n",
       "      <th>Ano de Referência</th>\n",
       "      <th>Prestadores</th>\n",
       "      <th>Serviços</th>\n",
       "      <th>Natureza Jurídica</th>\n",
       "      <th>FN001 - Receita operacional direta total</th>\n",
       "      <th>FN002 - Receita operacional direta de água</th>\n",
       "      <th>FN003 - Receita operacional direta de esgoto</th>\n",
       "      <th>...</th>\n",
       "      <th>QD011 - Quantidades de extravasamentos de esgotos registrados</th>\n",
       "      <th>QD012 - Duração dos extravasamentos registrados</th>\n",
       "      <th>QD021 - Quantidade de interrupções sistemáticas</th>\n",
       "      <th>QD022 - Duração das interrupções sistemáticas</th>\n",
       "      <th>QD023 - Quantidade de reclamações ou solicitações de serviços</th>\n",
       "      <th>QD024 - Quantidade de serviços executados</th>\n",
       "      <th>QD025 - Tempo total de execução dos serviços</th>\n",
       "      <th>TB011 - Quantidade de empregados administrativos dos agentes públicos (Antigo campo GE050)</th>\n",
       "      <th>TB012 - Quantidade de empregados administrativos dos agentes privados (Antigo campo GE051)</th>\n",
       "      <th>POPULAÇÃO ESTIMADA</th>\n",
       "    </tr>\n",
       "  </thead>\n",
       "  <tbody>\n",
       "    <tr>\n",
       "      <th>0</th>\n",
       "      <td>120001</td>\n",
       "      <td>Acrelândia</td>\n",
       "      <td>AC</td>\n",
       "      <td>2019</td>\n",
       "      <td>[12004000] Departamento Estadual de Pavimentaç...</td>\n",
       "      <td>Água</td>\n",
       "      <td>Autarquia</td>\n",
       "      <td>663.546,06</td>\n",
       "      <td>663.546,06</td>\n",
       "      <td>NaN</td>\n",
       "      <td>...</td>\n",
       "      <td>NaN</td>\n",
       "      <td>NaN</td>\n",
       "      <td>365.0</td>\n",
       "      <td>3.650,00</td>\n",
       "      <td>568</td>\n",
       "      <td>464</td>\n",
       "      <td>6.336,00</td>\n",
       "      <td>NaN</td>\n",
       "      <td>NaN</td>\n",
       "      <td>15256</td>\n",
       "    </tr>\n",
       "    <tr>\n",
       "      <th>1</th>\n",
       "      <td>120005</td>\n",
       "      <td>Assis Brasil</td>\n",
       "      <td>AC</td>\n",
       "      <td>2019</td>\n",
       "      <td>[12004000] Departamento Estadual de Pavimentaç...</td>\n",
       "      <td>Água | Res. Sólidos</td>\n",
       "      <td>Autarquia | Administração pública direta</td>\n",
       "      <td>723.713,71</td>\n",
       "      <td>723.713,71</td>\n",
       "      <td>NaN</td>\n",
       "      <td>...</td>\n",
       "      <td>NaN</td>\n",
       "      <td>NaN</td>\n",
       "      <td>12.0</td>\n",
       "      <td>730,00</td>\n",
       "      <td>515</td>\n",
       "      <td>491</td>\n",
       "      <td>6.336,00</td>\n",
       "      <td>4.0</td>\n",
       "      <td>NaN</td>\n",
       "      <td>7417</td>\n",
       "    </tr>\n",
       "    <tr>\n",
       "      <th>2</th>\n",
       "      <td>120010</td>\n",
       "      <td>Brasiléia</td>\n",
       "      <td>AC</td>\n",
       "      <td>2019</td>\n",
       "      <td>[12004000] Departamento Estadual de Pavimentaç...</td>\n",
       "      <td>Água | Res. Sólidos</td>\n",
       "      <td>Autarquia | Administração pública direta</td>\n",
       "      <td>1.984.882,66</td>\n",
       "      <td>1.984.882,66</td>\n",
       "      <td>NaN</td>\n",
       "      <td>...</td>\n",
       "      <td>NaN</td>\n",
       "      <td>NaN</td>\n",
       "      <td>365.0</td>\n",
       "      <td>2.190,00</td>\n",
       "      <td>1.059</td>\n",
       "      <td>1.001</td>\n",
       "      <td>14.784,00</td>\n",
       "      <td>3.0</td>\n",
       "      <td>NaN</td>\n",
       "      <td>26278</td>\n",
       "    </tr>\n",
       "    <tr>\n",
       "      <th>3</th>\n",
       "      <td>120013</td>\n",
       "      <td>Bujari</td>\n",
       "      <td>AC</td>\n",
       "      <td>2019</td>\n",
       "      <td>[12004000] Departamento Estadual de Pavimentaç...</td>\n",
       "      <td>Água | Res. Sólidos</td>\n",
       "      <td>Autarquia | Administração pública direta</td>\n",
       "      <td>647.261,88</td>\n",
       "      <td>647.261,88</td>\n",
       "      <td>NaN</td>\n",
       "      <td>...</td>\n",
       "      <td>NaN</td>\n",
       "      <td>NaN</td>\n",
       "      <td>365.0</td>\n",
       "      <td>4.380,00</td>\n",
       "      <td>177</td>\n",
       "      <td>155</td>\n",
       "      <td>6.336,00</td>\n",
       "      <td>2.0</td>\n",
       "      <td>NaN</td>\n",
       "      <td>10266</td>\n",
       "    </tr>\n",
       "    <tr>\n",
       "      <th>4</th>\n",
       "      <td>120017</td>\n",
       "      <td>Capixaba</td>\n",
       "      <td>AC</td>\n",
       "      <td>2019</td>\n",
       "      <td>[12004000] Departamento Estadual de Pavimentaç...</td>\n",
       "      <td>Água | Res. Sólidos</td>\n",
       "      <td>Autarquia | Administração pública direta</td>\n",
       "      <td>602.726,79</td>\n",
       "      <td>602.726,79</td>\n",
       "      <td>NaN</td>\n",
       "      <td>...</td>\n",
       "      <td>NaN</td>\n",
       "      <td>NaN</td>\n",
       "      <td>12.0</td>\n",
       "      <td>5.110,00</td>\n",
       "      <td>235</td>\n",
       "      <td>216</td>\n",
       "      <td>4.224,00</td>\n",
       "      <td>1.0</td>\n",
       "      <td>NaN</td>\n",
       "      <td>11733</td>\n",
       "    </tr>\n",
       "  </tbody>\n",
       "</table>\n",
       "<p>5 rows × 46 columns</p>\n",
       "</div>"
      ],
      "text/plain": [
       "   Código do Município     Município Estado  Ano de Referência  \\\n",
       "0               120001    Acrelândia     AC               2019   \n",
       "1               120005  Assis Brasil     AC               2019   \n",
       "2               120010     Brasiléia     AC               2019   \n",
       "3               120013        Bujari     AC               2019   \n",
       "4               120017      Capixaba     AC               2019   \n",
       "\n",
       "                                         Prestadores             Serviços  \\\n",
       "0  [12004000] Departamento Estadual de Pavimentaç...                 Água   \n",
       "1  [12004000] Departamento Estadual de Pavimentaç...  Água | Res. Sólidos   \n",
       "2  [12004000] Departamento Estadual de Pavimentaç...  Água | Res. Sólidos   \n",
       "3  [12004000] Departamento Estadual de Pavimentaç...  Água | Res. Sólidos   \n",
       "4  [12004000] Departamento Estadual de Pavimentaç...  Água | Res. Sólidos   \n",
       "\n",
       "                          Natureza Jurídica  \\\n",
       "0                                 Autarquia   \n",
       "1  Autarquia | Administração pública direta   \n",
       "2  Autarquia | Administração pública direta   \n",
       "3  Autarquia | Administração pública direta   \n",
       "4  Autarquia | Administração pública direta   \n",
       "\n",
       "  FN001 - Receita operacional direta total  \\\n",
       "0                               663.546,06   \n",
       "1                               723.713,71   \n",
       "2                             1.984.882,66   \n",
       "3                               647.261,88   \n",
       "4                               602.726,79   \n",
       "\n",
       "  FN002 - Receita operacional direta de água  \\\n",
       "0                                 663.546,06   \n",
       "1                                 723.713,71   \n",
       "2                               1.984.882,66   \n",
       "3                                 647.261,88   \n",
       "4                                 602.726,79   \n",
       "\n",
       "  FN003 - Receita operacional direta de esgoto  ...  \\\n",
       "0                                          NaN  ...   \n",
       "1                                          NaN  ...   \n",
       "2                                          NaN  ...   \n",
       "3                                          NaN  ...   \n",
       "4                                          NaN  ...   \n",
       "\n",
       "  QD011 - Quantidades de extravasamentos de esgotos registrados  \\\n",
       "0                                                NaN              \n",
       "1                                                NaN              \n",
       "2                                                NaN              \n",
       "3                                                NaN              \n",
       "4                                                NaN              \n",
       "\n",
       "  QD012 - Duração dos extravasamentos registrados  \\\n",
       "0                                             NaN   \n",
       "1                                             NaN   \n",
       "2                                             NaN   \n",
       "3                                             NaN   \n",
       "4                                             NaN   \n",
       "\n",
       "  QD021 - Quantidade de interrupções sistemáticas  \\\n",
       "0                                           365.0   \n",
       "1                                            12.0   \n",
       "2                                           365.0   \n",
       "3                                           365.0   \n",
       "4                                            12.0   \n",
       "\n",
       "  QD022 - Duração das interrupções sistemáticas  \\\n",
       "0                                      3.650,00   \n",
       "1                                        730,00   \n",
       "2                                      2.190,00   \n",
       "3                                      4.380,00   \n",
       "4                                      5.110,00   \n",
       "\n",
       "  QD023 - Quantidade de reclamações ou solicitações de serviços  \\\n",
       "0                                                568              \n",
       "1                                                515              \n",
       "2                                              1.059              \n",
       "3                                                177              \n",
       "4                                                235              \n",
       "\n",
       "  QD024 - Quantidade de serviços executados  \\\n",
       "0                                       464   \n",
       "1                                       491   \n",
       "2                                     1.001   \n",
       "3                                       155   \n",
       "4                                       216   \n",
       "\n",
       "  QD025 - Tempo total de execução dos serviços  \\\n",
       "0                                     6.336,00   \n",
       "1                                     6.336,00   \n",
       "2                                    14.784,00   \n",
       "3                                     6.336,00   \n",
       "4                                     4.224,00   \n",
       "\n",
       "  TB011 - Quantidade de empregados administrativos dos agentes públicos (Antigo campo GE050)  \\\n",
       "0                                                NaN                                           \n",
       "1                                                4.0                                           \n",
       "2                                                3.0                                           \n",
       "3                                                2.0                                           \n",
       "4                                                1.0                                           \n",
       "\n",
       "  TB012 - Quantidade de empregados administrativos dos agentes privados (Antigo campo GE051)  \\\n",
       "0                                                NaN                                           \n",
       "1                                                NaN                                           \n",
       "2                                                NaN                                           \n",
       "3                                                NaN                                           \n",
       "4                                                NaN                                           \n",
       "\n",
       "  POPULAÇÃO ESTIMADA  \n",
       "0              15256  \n",
       "1               7417  \n",
       "2              26278  \n",
       "3              10266  \n",
       "4              11733  \n",
       "\n",
       "[5 rows x 46 columns]"
      ]
     },
     "execution_count": 7,
     "metadata": {},
     "output_type": "execute_result"
    }
   ],
   "source": [
    "df_SNIS_pop = df_SNIS_pop.loc[:, (df_SNIS_pop.isnull().sum(axis=0)) < 5000]\n",
    "df_SNIS_pop.head()"
   ]
  },
  {
   "cell_type": "code",
   "execution_count": 8,
   "id": "5209b09e",
   "metadata": {},
   "outputs": [
    {
     "data": {
      "text/html": [
       "<div>\n",
       "<style scoped>\n",
       "    .dataframe tbody tr th:only-of-type {\n",
       "        vertical-align: middle;\n",
       "    }\n",
       "\n",
       "    .dataframe tbody tr th {\n",
       "        vertical-align: top;\n",
       "    }\n",
       "\n",
       "    .dataframe thead th {\n",
       "        text-align: right;\n",
       "    }\n",
       "</style>\n",
       "<table border=\"1\" class=\"dataframe\">\n",
       "  <thead>\n",
       "    <tr style=\"text-align: right;\">\n",
       "      <th></th>\n",
       "      <th>Município</th>\n",
       "      <th>Estado</th>\n",
       "      <th>Prestadores</th>\n",
       "      <th>Serviços</th>\n",
       "      <th>Natureza Jurídica</th>\n",
       "      <th>FN001 - Receita operacional direta total</th>\n",
       "      <th>FN002 - Receita operacional direta de água</th>\n",
       "      <th>FN003 - Receita operacional direta de esgoto</th>\n",
       "      <th>FN004 - Receita operacional indireta</th>\n",
       "      <th>FN005 - Receita operacional total (direta + indireta)</th>\n",
       "      <th>...</th>\n",
       "      <th>QD011 - Quantidades de extravasamentos de esgotos registrados</th>\n",
       "      <th>QD012 - Duração dos extravasamentos registrados</th>\n",
       "      <th>QD021 - Quantidade de interrupções sistemáticas</th>\n",
       "      <th>QD022 - Duração das interrupções sistemáticas</th>\n",
       "      <th>QD023 - Quantidade de reclamações ou solicitações de serviços</th>\n",
       "      <th>QD024 - Quantidade de serviços executados</th>\n",
       "      <th>QD025 - Tempo total de execução dos serviços</th>\n",
       "      <th>TB011 - Quantidade de empregados administrativos dos agentes públicos (Antigo campo GE050)</th>\n",
       "      <th>TB012 - Quantidade de empregados administrativos dos agentes privados (Antigo campo GE051)</th>\n",
       "      <th>POPULAÇÃO ESTIMADA</th>\n",
       "    </tr>\n",
       "  </thead>\n",
       "  <tbody>\n",
       "    <tr>\n",
       "      <th>15</th>\n",
       "      <td>Rio Branco</td>\n",
       "      <td>AC</td>\n",
       "      <td>[12004000] Departamento Estadual de Pavimentaç...</td>\n",
       "      <td>Água e Esgoto | Res. Sólidos</td>\n",
       "      <td>Autarquia | Administração pública direta</td>\n",
       "      <td>47.213.039,47</td>\n",
       "      <td>38.247.595,47</td>\n",
       "      <td>8.965.444,00</td>\n",
       "      <td>421.632,30</td>\n",
       "      <td>47.634.671,77</td>\n",
       "      <td>...</td>\n",
       "      <td>NaN</td>\n",
       "      <td>NaN</td>\n",
       "      <td>2.3</td>\n",
       "      <td>38.790,00</td>\n",
       "      <td>15.364</td>\n",
       "      <td>11.688</td>\n",
       "      <td>54.912,00</td>\n",
       "      <td>12.0</td>\n",
       "      <td>22.0</td>\n",
       "      <td>407319</td>\n",
       "    </tr>\n",
       "    <tr>\n",
       "      <th>23</th>\n",
       "      <td>Anadia</td>\n",
       "      <td>AL</td>\n",
       "      <td>[27043000] Companhia de Saneamento de Alagoas ...</td>\n",
       "      <td>Água</td>\n",
       "      <td>Sociedade de economia mista com administração ...</td>\n",
       "      <td>1.646.496,24</td>\n",
       "      <td>1.646.496,24</td>\n",
       "      <td>NaN</td>\n",
       "      <td>99.912,05</td>\n",
       "      <td>1.746.408,29</td>\n",
       "      <td>...</td>\n",
       "      <td>NaN</td>\n",
       "      <td>NaN</td>\n",
       "      <td>8.0</td>\n",
       "      <td>88,00</td>\n",
       "      <td>2.715</td>\n",
       "      <td>2.663</td>\n",
       "      <td>800,00</td>\n",
       "      <td>NaN</td>\n",
       "      <td>NaN</td>\n",
       "      <td>17545</td>\n",
       "    </tr>\n",
       "    <tr>\n",
       "      <th>24</th>\n",
       "      <td>Arapiraca</td>\n",
       "      <td>AL</td>\n",
       "      <td>[27043000] Companhia de Saneamento de Alagoas ...</td>\n",
       "      <td>Água e Esgoto | Res. Sólidos</td>\n",
       "      <td>Sociedade de economia mista com administração ...</td>\n",
       "      <td>52.839.484,70</td>\n",
       "      <td>52.309.070,31</td>\n",
       "      <td>530.414,39</td>\n",
       "      <td>4.158.027,15</td>\n",
       "      <td>56.997.511,85</td>\n",
       "      <td>...</td>\n",
       "      <td>158.0</td>\n",
       "      <td>7.584,00</td>\n",
       "      <td>NaN</td>\n",
       "      <td>NaN</td>\n",
       "      <td>7.504</td>\n",
       "      <td>6.099</td>\n",
       "      <td>292.752,00</td>\n",
       "      <td>5.0</td>\n",
       "      <td>5.0</td>\n",
       "      <td>231747</td>\n",
       "    </tr>\n",
       "    <tr>\n",
       "      <th>27</th>\n",
       "      <td>Barra de São Miguel</td>\n",
       "      <td>AL</td>\n",
       "      <td>[27043000] Companhia de Saneamento de Alagoas ...</td>\n",
       "      <td>Água e Esgoto | Res. Sólidos</td>\n",
       "      <td>Sociedade de economia mista com administração ...</td>\n",
       "      <td>5.106.808,70</td>\n",
       "      <td>4.986.971,89</td>\n",
       "      <td>119.836,81</td>\n",
       "      <td>380.497,77</td>\n",
       "      <td>5.487.306,47</td>\n",
       "      <td>...</td>\n",
       "      <td>NaN</td>\n",
       "      <td>NaN</td>\n",
       "      <td>NaN</td>\n",
       "      <td>NaN</td>\n",
       "      <td>1.368</td>\n",
       "      <td>1.285</td>\n",
       "      <td>1.501,76</td>\n",
       "      <td>1.0</td>\n",
       "      <td>NaN</td>\n",
       "      <td>8322</td>\n",
       "    </tr>\n",
       "    <tr>\n",
       "      <th>28</th>\n",
       "      <td>Batalha</td>\n",
       "      <td>AL</td>\n",
       "      <td>[27043000] Companhia de Saneamento de Alagoas ...</td>\n",
       "      <td>Água e Esgoto | Res. Sólidos</td>\n",
       "      <td>Sociedade de economia mista com administração ...</td>\n",
       "      <td>3.175.641,43</td>\n",
       "      <td>2.102.583,93</td>\n",
       "      <td>1.073.057,50</td>\n",
       "      <td>240.809,34</td>\n",
       "      <td>3.416.450,77</td>\n",
       "      <td>...</td>\n",
       "      <td>14.0</td>\n",
       "      <td>1.022,00</td>\n",
       "      <td>121.0</td>\n",
       "      <td>1.937,00</td>\n",
       "      <td>1.080</td>\n",
       "      <td>1.080</td>\n",
       "      <td>28.080,00</td>\n",
       "      <td>3.0</td>\n",
       "      <td>NaN</td>\n",
       "      <td>18232</td>\n",
       "    </tr>\n",
       "  </tbody>\n",
       "</table>\n",
       "<p>5 rows × 44 columns</p>\n",
       "</div>"
      ],
      "text/plain": [
       "              Município Estado  \\\n",
       "15           Rio Branco     AC   \n",
       "23               Anadia     AL   \n",
       "24            Arapiraca     AL   \n",
       "27  Barra de São Miguel     AL   \n",
       "28              Batalha     AL   \n",
       "\n",
       "                                          Prestadores  \\\n",
       "15  [12004000] Departamento Estadual de Pavimentaç...   \n",
       "23  [27043000] Companhia de Saneamento de Alagoas ...   \n",
       "24  [27043000] Companhia de Saneamento de Alagoas ...   \n",
       "27  [27043000] Companhia de Saneamento de Alagoas ...   \n",
       "28  [27043000] Companhia de Saneamento de Alagoas ...   \n",
       "\n",
       "                        Serviços  \\\n",
       "15  Água e Esgoto | Res. Sólidos   \n",
       "23                          Água   \n",
       "24  Água e Esgoto | Res. Sólidos   \n",
       "27  Água e Esgoto | Res. Sólidos   \n",
       "28  Água e Esgoto | Res. Sólidos   \n",
       "\n",
       "                                    Natureza Jurídica  \\\n",
       "15           Autarquia | Administração pública direta   \n",
       "23  Sociedade de economia mista com administração ...   \n",
       "24  Sociedade de economia mista com administração ...   \n",
       "27  Sociedade de economia mista com administração ...   \n",
       "28  Sociedade de economia mista com administração ...   \n",
       "\n",
       "   FN001 - Receita operacional direta total  \\\n",
       "15                            47.213.039,47   \n",
       "23                             1.646.496,24   \n",
       "24                            52.839.484,70   \n",
       "27                             5.106.808,70   \n",
       "28                             3.175.641,43   \n",
       "\n",
       "   FN002 - Receita operacional direta de água  \\\n",
       "15                              38.247.595,47   \n",
       "23                               1.646.496,24   \n",
       "24                              52.309.070,31   \n",
       "27                               4.986.971,89   \n",
       "28                               2.102.583,93   \n",
       "\n",
       "   FN003 - Receita operacional direta de esgoto  \\\n",
       "15                                 8.965.444,00   \n",
       "23                                          NaN   \n",
       "24                                   530.414,39   \n",
       "27                                   119.836,81   \n",
       "28                                 1.073.057,50   \n",
       "\n",
       "   FN004 - Receita operacional indireta  \\\n",
       "15                           421.632,30   \n",
       "23                            99.912,05   \n",
       "24                         4.158.027,15   \n",
       "27                           380.497,77   \n",
       "28                           240.809,34   \n",
       "\n",
       "   FN005 - Receita operacional total (direta + indireta)  ...  \\\n",
       "15                                      47.634.671,77     ...   \n",
       "23                                       1.746.408,29     ...   \n",
       "24                                      56.997.511,85     ...   \n",
       "27                                       5.487.306,47     ...   \n",
       "28                                       3.416.450,77     ...   \n",
       "\n",
       "   QD011 - Quantidades de extravasamentos de esgotos registrados  \\\n",
       "15                                                NaN              \n",
       "23                                                NaN              \n",
       "24                                              158.0              \n",
       "27                                                NaN              \n",
       "28                                               14.0              \n",
       "\n",
       "   QD012 - Duração dos extravasamentos registrados  \\\n",
       "15                                             NaN   \n",
       "23                                             NaN   \n",
       "24                                        7.584,00   \n",
       "27                                             NaN   \n",
       "28                                        1.022,00   \n",
       "\n",
       "   QD021 - Quantidade de interrupções sistemáticas  \\\n",
       "15                                             2.3   \n",
       "23                                             8.0   \n",
       "24                                             NaN   \n",
       "27                                             NaN   \n",
       "28                                           121.0   \n",
       "\n",
       "   QD022 - Duração das interrupções sistemáticas  \\\n",
       "15                                     38.790,00   \n",
       "23                                         88,00   \n",
       "24                                           NaN   \n",
       "27                                           NaN   \n",
       "28                                      1.937,00   \n",
       "\n",
       "   QD023 - Quantidade de reclamações ou solicitações de serviços  \\\n",
       "15                                             15.364              \n",
       "23                                              2.715              \n",
       "24                                              7.504              \n",
       "27                                              1.368              \n",
       "28                                              1.080              \n",
       "\n",
       "   QD024 - Quantidade de serviços executados  \\\n",
       "15                                    11.688   \n",
       "23                                     2.663   \n",
       "24                                     6.099   \n",
       "27                                     1.285   \n",
       "28                                     1.080   \n",
       "\n",
       "   QD025 - Tempo total de execução dos serviços  \\\n",
       "15                                    54.912,00   \n",
       "23                                       800,00   \n",
       "24                                   292.752,00   \n",
       "27                                     1.501,76   \n",
       "28                                    28.080,00   \n",
       "\n",
       "   TB011 - Quantidade de empregados administrativos dos agentes públicos (Antigo campo GE050)  \\\n",
       "15                                               12.0                                           \n",
       "23                                                NaN                                           \n",
       "24                                                5.0                                           \n",
       "27                                                1.0                                           \n",
       "28                                                3.0                                           \n",
       "\n",
       "   TB012 - Quantidade de empregados administrativos dos agentes privados (Antigo campo GE051)  \\\n",
       "15                                               22.0                                           \n",
       "23                                                NaN                                           \n",
       "24                                                5.0                                           \n",
       "27                                                NaN                                           \n",
       "28                                                NaN                                           \n",
       "\n",
       "   POPULAÇÃO ESTIMADA  \n",
       "15             407319  \n",
       "23              17545  \n",
       "24             231747  \n",
       "27               8322  \n",
       "28              18232  \n",
       "\n",
       "[5 rows x 44 columns]"
      ]
     },
     "execution_count": 8,
     "metadata": {},
     "output_type": "execute_result"
    }
   ],
   "source": [
    "# vamos descartar as rows com mais de 30 nan e a coluna \"codigo do municipio\"\n",
    "df_SNIS_pop = df_SNIS_pop.dropna(thresh=30).drop(['Código do Município', 'Ano de Referência'], axis=1)\n",
    "df_SNIS_pop.head()"
   ]
  },
  {
   "cell_type": "code",
   "execution_count": 9,
   "id": "22112c15",
   "metadata": {},
   "outputs": [],
   "source": [
    "df_SNIS_pop = df_SNIS_pop.dropna(subset=['POPULAÇÃO ESTIMADA'])"
   ]
  },
  {
   "cell_type": "markdown",
   "id": "8b8b1140",
   "metadata": {},
   "source": [
    "Exportamos os dados operacionais para um csv\n",
    "\n",
    "df_SNIS_pop[['Município', 'Estado', 'Prestadores', 'Serviços', \n",
    "          'Natureza Jurídica', \n",
    "          'QD011 - Quantidades de extravasamentos de esgotos registrados',\n",
    "         'QD012 - Duração dos extravasamentos registrados', \n",
    "          'QD021 - Quantidade de interrupções sistemáticas',\n",
    "         'QD022 - Duração das interrupções sistemáticas', \n",
    "          'QD023 - Quantidade de reclamações ou solicitações de serviços',\n",
    "         'QD024 - Quantidade de serviços executados', \n",
    "          'QD025 - Tempo total de execução dos serviços', \n",
    "          'POPULAÇÃO ESTIMADA']].to_csv('df_operacional.csv')"
   ]
  },
  {
   "cell_type": "code",
   "execution_count": 10,
   "id": "58469d0b",
   "metadata": {},
   "outputs": [
    {
     "name": "stderr",
     "output_type": "stream",
     "text": [
      "<ipython-input-10-01749325bb1d>:2: FutureWarning: The default value of regex will change from True to False in a future version.\n",
      "  df_SNIS_pop.columns = df_SNIS_pop.columns.str.replace('^ +| +$', '_')\n"
     ]
    },
    {
     "data": {
      "text/plain": [
       "Index(['Município', 'Estado', 'Prestadores', 'Serviços', 'Natureza Jurídica'], dtype='object')"
      ]
     },
     "execution_count": 10,
     "metadata": {},
     "output_type": "execute_result"
    }
   ],
   "source": [
    "# removemos os espacos brancos final do texto dos nomes das colunas\n",
    "df_SNIS_pop.columns = df_SNIS_pop.columns.str.replace('^ +| +$', '_')\n",
    "df_SNIS_pop.columns[:5]"
   ]
  },
  {
   "cell_type": "markdown",
   "id": "db154b45",
   "metadata": {},
   "source": [
    "# Convertemos os dados de string to numeric"
   ]
  },
  {
   "cell_type": "code",
   "execution_count": 11,
   "id": "0d0d4a69",
   "metadata": {},
   "outputs": [],
   "source": [
    "# vamos converter todas as colunas em string\n",
    "df_SNIS_pop = df_SNIS_pop.astype(str)"
   ]
  },
  {
   "cell_type": "code",
   "execution_count": 12,
   "id": "216d9999",
   "metadata": {},
   "outputs": [],
   "source": [
    "# primeiramente subsituimos os pontos por brancos\n",
    "def col_to_numeric(column):\n",
    "    df_SNIS_pop[column] = df_SNIS_pop[column].str.replace('.', '', regex=False)\n",
    "    df_SNIS_pop[column] = df_SNIS_pop[column].str.replace(',', '.', regex=False).astype(float)\n",
    "    return df_SNIS_pop[column]\n",
    "    \n",
    "# df_SNIS_pop['FN001 - Receita operacional direta total'] = df_SNIS_pop[\n",
    "#     'FN001 - Receita operacional direta total'].str.replace('.', '', regex=False)"
   ]
  },
  {
   "cell_type": "code",
   "execution_count": 13,
   "id": "25e0b9ea",
   "metadata": {},
   "outputs": [],
   "source": [
    "# colunas para aplicar a transformacao\n",
    "# list(df_SNIS_pop.columns[5:25])\n",
    "# list(df_SNIS_pop.columns[26:34])\n",
    "# list(df_SNIS_pop.columns[35:36])\n",
    "# list(df_SNIS_pop.columns[37:41])"
   ]
  },
  {
   "cell_type": "code",
   "execution_count": 14,
   "id": "dcbe61f2",
   "metadata": {},
   "outputs": [],
   "source": [
    "# aplicamos a transformacao\n",
    "try:\n",
    "    for col in list(df_SNIS_pop.columns[5:25]):\n",
    "        col_to_numeric(col)\n",
    "\n",
    "    for col in list(df_SNIS_pop.columns[26:34]):\n",
    "        col_to_numeric(col)\n",
    "\n",
    "    for col in list(df_SNIS_pop.columns[35:36]):\n",
    "        col_to_numeric(col)\n",
    "\n",
    "    for col in list(df_SNIS_pop.columns[37:41]):\n",
    "        col_to_numeric(col)\n",
    "        \n",
    "except:\n",
    "    pass"
   ]
  },
  {
   "cell_type": "code",
   "execution_count": 15,
   "id": "8f9d4104",
   "metadata": {},
   "outputs": [
    {
     "data": {
      "text/html": [
       "<div>\n",
       "<style scoped>\n",
       "    .dataframe tbody tr th:only-of-type {\n",
       "        vertical-align: middle;\n",
       "    }\n",
       "\n",
       "    .dataframe tbody tr th {\n",
       "        vertical-align: top;\n",
       "    }\n",
       "\n",
       "    .dataframe thead th {\n",
       "        text-align: right;\n",
       "    }\n",
       "</style>\n",
       "<table border=\"1\" class=\"dataframe\">\n",
       "  <thead>\n",
       "    <tr style=\"text-align: right;\">\n",
       "      <th></th>\n",
       "      <th>Município</th>\n",
       "      <th>Estado</th>\n",
       "      <th>Prestadores</th>\n",
       "      <th>Serviços</th>\n",
       "      <th>Natureza Jurídica</th>\n",
       "      <th>FN001 - Receita operacional direta total</th>\n",
       "      <th>FN002 - Receita operacional direta de água</th>\n",
       "      <th>FN003 - Receita operacional direta de esgoto</th>\n",
       "      <th>FN004 - Receita operacional indireta</th>\n",
       "      <th>FN005 - Receita operacional total (direta + indireta)</th>\n",
       "      <th>...</th>\n",
       "      <th>QD011 - Quantidades de extravasamentos de esgotos registrados</th>\n",
       "      <th>QD012 - Duração dos extravasamentos registrados</th>\n",
       "      <th>QD021 - Quantidade de interrupções sistemáticas</th>\n",
       "      <th>QD022 - Duração das interrupções sistemáticas</th>\n",
       "      <th>QD023 - Quantidade de reclamações ou solicitações de serviços</th>\n",
       "      <th>QD024 - Quantidade de serviços executados</th>\n",
       "      <th>QD025 - Tempo total de execução dos serviços</th>\n",
       "      <th>TB011 - Quantidade de empregados administrativos dos agentes públicos (Antigo campo GE050)</th>\n",
       "      <th>TB012 - Quantidade de empregados administrativos dos agentes privados (Antigo campo GE051)</th>\n",
       "      <th>POPULAÇÃO ESTIMADA</th>\n",
       "    </tr>\n",
       "  </thead>\n",
       "  <tbody>\n",
       "    <tr>\n",
       "      <th>15</th>\n",
       "      <td>Rio Branco</td>\n",
       "      <td>AC</td>\n",
       "      <td>[12004000] Departamento Estadual de Pavimentaç...</td>\n",
       "      <td>Água e Esgoto | Res. Sólidos</td>\n",
       "      <td>Autarquia | Administração pública direta</td>\n",
       "      <td>47213039.47</td>\n",
       "      <td>38247595.47</td>\n",
       "      <td>8965444.00</td>\n",
       "      <td>421632.30</td>\n",
       "      <td>47634671.77</td>\n",
       "      <td>...</td>\n",
       "      <td>nan</td>\n",
       "      <td>NaN</td>\n",
       "      <td>2.3</td>\n",
       "      <td>38790.0</td>\n",
       "      <td>15364.0</td>\n",
       "      <td>11688.0</td>\n",
       "      <td>54912.00</td>\n",
       "      <td>12.0</td>\n",
       "      <td>22.0</td>\n",
       "      <td>407319</td>\n",
       "    </tr>\n",
       "    <tr>\n",
       "      <th>23</th>\n",
       "      <td>Anadia</td>\n",
       "      <td>AL</td>\n",
       "      <td>[27043000] Companhia de Saneamento de Alagoas ...</td>\n",
       "      <td>Água</td>\n",
       "      <td>Sociedade de economia mista com administração ...</td>\n",
       "      <td>1646496.24</td>\n",
       "      <td>1646496.24</td>\n",
       "      <td>NaN</td>\n",
       "      <td>99912.05</td>\n",
       "      <td>1746408.29</td>\n",
       "      <td>...</td>\n",
       "      <td>nan</td>\n",
       "      <td>NaN</td>\n",
       "      <td>8.0</td>\n",
       "      <td>88.0</td>\n",
       "      <td>2715.0</td>\n",
       "      <td>2663.0</td>\n",
       "      <td>800.00</td>\n",
       "      <td>nan</td>\n",
       "      <td>nan</td>\n",
       "      <td>17545</td>\n",
       "    </tr>\n",
       "    <tr>\n",
       "      <th>24</th>\n",
       "      <td>Arapiraca</td>\n",
       "      <td>AL</td>\n",
       "      <td>[27043000] Companhia de Saneamento de Alagoas ...</td>\n",
       "      <td>Água e Esgoto | Res. Sólidos</td>\n",
       "      <td>Sociedade de economia mista com administração ...</td>\n",
       "      <td>52839484.70</td>\n",
       "      <td>52309070.31</td>\n",
       "      <td>530414.39</td>\n",
       "      <td>4158027.15</td>\n",
       "      <td>56997511.85</td>\n",
       "      <td>...</td>\n",
       "      <td>158.0</td>\n",
       "      <td>7584.0</td>\n",
       "      <td>nan</td>\n",
       "      <td>NaN</td>\n",
       "      <td>7504.0</td>\n",
       "      <td>6099.0</td>\n",
       "      <td>292752.00</td>\n",
       "      <td>5.0</td>\n",
       "      <td>5.0</td>\n",
       "      <td>231747</td>\n",
       "    </tr>\n",
       "    <tr>\n",
       "      <th>27</th>\n",
       "      <td>Barra de São Miguel</td>\n",
       "      <td>AL</td>\n",
       "      <td>[27043000] Companhia de Saneamento de Alagoas ...</td>\n",
       "      <td>Água e Esgoto | Res. Sólidos</td>\n",
       "      <td>Sociedade de economia mista com administração ...</td>\n",
       "      <td>5106808.70</td>\n",
       "      <td>4986971.89</td>\n",
       "      <td>119836.81</td>\n",
       "      <td>380497.77</td>\n",
       "      <td>5487306.47</td>\n",
       "      <td>...</td>\n",
       "      <td>nan</td>\n",
       "      <td>NaN</td>\n",
       "      <td>nan</td>\n",
       "      <td>NaN</td>\n",
       "      <td>1368.0</td>\n",
       "      <td>1285.0</td>\n",
       "      <td>1501.76</td>\n",
       "      <td>1.0</td>\n",
       "      <td>nan</td>\n",
       "      <td>8322</td>\n",
       "    </tr>\n",
       "    <tr>\n",
       "      <th>28</th>\n",
       "      <td>Batalha</td>\n",
       "      <td>AL</td>\n",
       "      <td>[27043000] Companhia de Saneamento de Alagoas ...</td>\n",
       "      <td>Água e Esgoto | Res. Sólidos</td>\n",
       "      <td>Sociedade de economia mista com administração ...</td>\n",
       "      <td>3175641.43</td>\n",
       "      <td>2102583.93</td>\n",
       "      <td>1073057.50</td>\n",
       "      <td>240809.34</td>\n",
       "      <td>3416450.77</td>\n",
       "      <td>...</td>\n",
       "      <td>14.0</td>\n",
       "      <td>1022.0</td>\n",
       "      <td>121.0</td>\n",
       "      <td>1937.0</td>\n",
       "      <td>1080.0</td>\n",
       "      <td>1080.0</td>\n",
       "      <td>28080.00</td>\n",
       "      <td>3.0</td>\n",
       "      <td>nan</td>\n",
       "      <td>18232</td>\n",
       "    </tr>\n",
       "  </tbody>\n",
       "</table>\n",
       "<p>5 rows × 44 columns</p>\n",
       "</div>"
      ],
      "text/plain": [
       "              Município Estado  \\\n",
       "15           Rio Branco     AC   \n",
       "23               Anadia     AL   \n",
       "24            Arapiraca     AL   \n",
       "27  Barra de São Miguel     AL   \n",
       "28              Batalha     AL   \n",
       "\n",
       "                                          Prestadores  \\\n",
       "15  [12004000] Departamento Estadual de Pavimentaç...   \n",
       "23  [27043000] Companhia de Saneamento de Alagoas ...   \n",
       "24  [27043000] Companhia de Saneamento de Alagoas ...   \n",
       "27  [27043000] Companhia de Saneamento de Alagoas ...   \n",
       "28  [27043000] Companhia de Saneamento de Alagoas ...   \n",
       "\n",
       "                        Serviços  \\\n",
       "15  Água e Esgoto | Res. Sólidos   \n",
       "23                          Água   \n",
       "24  Água e Esgoto | Res. Sólidos   \n",
       "27  Água e Esgoto | Res. Sólidos   \n",
       "28  Água e Esgoto | Res. Sólidos   \n",
       "\n",
       "                                    Natureza Jurídica  \\\n",
       "15           Autarquia | Administração pública direta   \n",
       "23  Sociedade de economia mista com administração ...   \n",
       "24  Sociedade de economia mista com administração ...   \n",
       "27  Sociedade de economia mista com administração ...   \n",
       "28  Sociedade de economia mista com administração ...   \n",
       "\n",
       "    FN001 - Receita operacional direta total  \\\n",
       "15                               47213039.47   \n",
       "23                                1646496.24   \n",
       "24                               52839484.70   \n",
       "27                                5106808.70   \n",
       "28                                3175641.43   \n",
       "\n",
       "    FN002 - Receita operacional direta de água  \\\n",
       "15                                 38247595.47   \n",
       "23                                  1646496.24   \n",
       "24                                 52309070.31   \n",
       "27                                  4986971.89   \n",
       "28                                  2102583.93   \n",
       "\n",
       "    FN003 - Receita operacional direta de esgoto  \\\n",
       "15                                    8965444.00   \n",
       "23                                           NaN   \n",
       "24                                     530414.39   \n",
       "27                                     119836.81   \n",
       "28                                    1073057.50   \n",
       "\n",
       "    FN004 - Receita operacional indireta  \\\n",
       "15                             421632.30   \n",
       "23                              99912.05   \n",
       "24                            4158027.15   \n",
       "27                             380497.77   \n",
       "28                             240809.34   \n",
       "\n",
       "    FN005 - Receita operacional total (direta + indireta)  ...  \\\n",
       "15                                        47634671.77      ...   \n",
       "23                                         1746408.29      ...   \n",
       "24                                        56997511.85      ...   \n",
       "27                                         5487306.47      ...   \n",
       "28                                         3416450.77      ...   \n",
       "\n",
       "    QD011 - Quantidades de extravasamentos de esgotos registrados  \\\n",
       "15                                                nan               \n",
       "23                                                nan               \n",
       "24                                              158.0               \n",
       "27                                                nan               \n",
       "28                                               14.0               \n",
       "\n",
       "    QD012 - Duração dos extravasamentos registrados  \\\n",
       "15                                              NaN   \n",
       "23                                              NaN   \n",
       "24                                           7584.0   \n",
       "27                                              NaN   \n",
       "28                                           1022.0   \n",
       "\n",
       "    QD021 - Quantidade de interrupções sistemáticas  \\\n",
       "15                                              2.3   \n",
       "23                                              8.0   \n",
       "24                                              nan   \n",
       "27                                              nan   \n",
       "28                                            121.0   \n",
       "\n",
       "    QD022 - Duração das interrupções sistemáticas  \\\n",
       "15                                        38790.0   \n",
       "23                                           88.0   \n",
       "24                                            NaN   \n",
       "27                                            NaN   \n",
       "28                                         1937.0   \n",
       "\n",
       "    QD023 - Quantidade de reclamações ou solicitações de serviços  \\\n",
       "15                                            15364.0               \n",
       "23                                             2715.0               \n",
       "24                                             7504.0               \n",
       "27                                             1368.0               \n",
       "28                                             1080.0               \n",
       "\n",
       "    QD024 - Quantidade de serviços executados  \\\n",
       "15                                    11688.0   \n",
       "23                                     2663.0   \n",
       "24                                     6099.0   \n",
       "27                                     1285.0   \n",
       "28                                     1080.0   \n",
       "\n",
       "    QD025 - Tempo total de execução dos serviços  \\\n",
       "15                                      54912.00   \n",
       "23                                        800.00   \n",
       "24                                     292752.00   \n",
       "27                                       1501.76   \n",
       "28                                      28080.00   \n",
       "\n",
       "    TB011 - Quantidade de empregados administrativos dos agentes públicos (Antigo campo GE050)  \\\n",
       "15                                               12.0                                            \n",
       "23                                                nan                                            \n",
       "24                                                5.0                                            \n",
       "27                                                1.0                                            \n",
       "28                                                3.0                                            \n",
       "\n",
       "    TB012 - Quantidade de empregados administrativos dos agentes privados (Antigo campo GE051)  \\\n",
       "15                                               22.0                                            \n",
       "23                                                nan                                            \n",
       "24                                                5.0                                            \n",
       "27                                                nan                                            \n",
       "28                                                nan                                            \n",
       "\n",
       "    POPULAÇÃO ESTIMADA  \n",
       "15              407319  \n",
       "23               17545  \n",
       "24              231747  \n",
       "27                8322  \n",
       "28               18232  \n",
       "\n",
       "[5 rows x 44 columns]"
      ]
     },
     "execution_count": 15,
     "metadata": {},
     "output_type": "execute_result"
    }
   ],
   "source": [
    "df_SNIS_pop.head()"
   ]
  },
  {
   "cell_type": "code",
   "execution_count": 16,
   "id": "360cab27",
   "metadata": {},
   "outputs": [],
   "source": [
    "# colunas numericas em formato americano to float\n",
    "\n",
    "american_numeric_cols = ['FN026 - Quantidade total de empregados próprios',\n",
    "                'QD011 - Quantidades de extravasamentos de esgotos registrados',\n",
    "                'QD021 - Quantidade de interrupções sistemáticas',\n",
    "                'TB011 - Quantidade de empregados administrativos dos agentes públicos (Antigo campo GE050)',\n",
    "                'TB012 - Quantidade de empregados administrativos dos agentes privados (Antigo campo GE051)',\n",
    "]\n",
    "\n",
    "def amer_col_to_numeric(column):\n",
    "#     df_SNIS_pop[column] = pd.to_numeric(df_SNIS_pop[column], downcast=\"float\")\n",
    "    df_SNIS_pop[column] = df_SNIS_pop[column].astype(float)\n",
    "    return df_SNIS_pop[column]"
   ]
  },
  {
   "cell_type": "code",
   "execution_count": 17,
   "id": "3b84a77a",
   "metadata": {},
   "outputs": [],
   "source": [
    "try:\n",
    "    for col2 in american_numeric_cols:\n",
    "        amer_col_to_numeric(col2) \n",
    "except:\n",
    "    pass"
   ]
  },
  {
   "cell_type": "markdown",
   "id": "b51d7291",
   "metadata": {},
   "source": [
    "df['text_new'] = df['text'].str.split('::').str[0]"
   ]
  },
  {
   "cell_type": "code",
   "execution_count": 18,
   "id": "799e9dd9",
   "metadata": {},
   "outputs": [],
   "source": [
    "# a coluna 'POPULAÇÃO ESTIMADA' possui caracteres diferentes tais como 35248 (2), entao iremos \n",
    "# remover o (2) e converter a float\n",
    "df_SNIS_pop['POPULAÇÃO ESTIMADA'] = df_SNIS_pop['POPULAÇÃO ESTIMADA'].str.split(' ').str[0].astype(float)"
   ]
  },
  {
   "cell_type": "markdown",
   "id": "9e67cdd9",
   "metadata": {},
   "source": [
    "agora temos todas as colunas em formatacao numerica: float"
   ]
  },
  {
   "cell_type": "markdown",
   "id": "71d4d2b2",
   "metadata": {},
   "source": [
    "# Separacao da coluna natureza juridica em mais colunas"
   ]
  },
  {
   "cell_type": "markdown",
   "id": "ea8890b2",
   "metadata": {},
   "source": [
    "df[['V','allele']] = df['V'].str.split('-',expand=True)"
   ]
  },
  {
   "cell_type": "code",
   "execution_count": 19,
   "id": "087eb3b5",
   "metadata": {
    "scrolled": true
   },
   "outputs": [],
   "source": [
    "def discover_naturezas():\n",
    "    \n",
    "    naturezas = []\n",
    "    for nat in df_SNIS_pop['Natureza Jurídica'].unique():\n",
    "        for na in nat.split(' | '):\n",
    "            if na not in naturezas:\n",
    "                naturezas.append(na)\n",
    "                \n",
    "    return naturezas"
   ]
  },
  {
   "cell_type": "code",
   "execution_count": 20,
   "id": "afc1c39c",
   "metadata": {},
   "outputs": [],
   "source": [
    "naturezas_unique = discover_naturezas()"
   ]
  },
  {
   "cell_type": "code",
   "execution_count": 21,
   "id": "8601e87e",
   "metadata": {},
   "outputs": [],
   "source": [
    "# agora iremos criar novas colunas com as naturezas juridicas\n",
    "def create_naturezas(natureza_jur):\n",
    "    nat_bin = []\n",
    "    for natureza in df_SNIS_pop['Natureza Jurídica']:\n",
    "        if natureza_jur in natureza:\n",
    "            nat_bin.append(1)\n",
    "        else:\n",
    "            nat_bin.append(0)\n",
    "    df_SNIS_pop[natureza_jur] = nat_bin\n",
    "    return df_SNIS_pop[natureza_jur]"
   ]
  },
  {
   "cell_type": "code",
   "execution_count": 22,
   "id": "626f068b",
   "metadata": {},
   "outputs": [],
   "source": [
    "for nat3 in naturezas_unique:\n",
    "    create_naturezas(nat3)"
   ]
  },
  {
   "cell_type": "code",
   "execution_count": 23,
   "id": "838a5764",
   "metadata": {},
   "outputs": [
    {
     "data": {
      "text/html": [
       "<div>\n",
       "<style scoped>\n",
       "    .dataframe tbody tr th:only-of-type {\n",
       "        vertical-align: middle;\n",
       "    }\n",
       "\n",
       "    .dataframe tbody tr th {\n",
       "        vertical-align: top;\n",
       "    }\n",
       "\n",
       "    .dataframe thead th {\n",
       "        text-align: right;\n",
       "    }\n",
       "</style>\n",
       "<table border=\"1\" class=\"dataframe\">\n",
       "  <thead>\n",
       "    <tr style=\"text-align: right;\">\n",
       "      <th></th>\n",
       "      <th>Município</th>\n",
       "      <th>Estado</th>\n",
       "      <th>Prestadores</th>\n",
       "      <th>Serviços</th>\n",
       "      <th>Natureza Jurídica</th>\n",
       "      <th>FN001 - Receita operacional direta total</th>\n",
       "      <th>FN002 - Receita operacional direta de água</th>\n",
       "      <th>FN003 - Receita operacional direta de esgoto</th>\n",
       "      <th>FN004 - Receita operacional indireta</th>\n",
       "      <th>FN005 - Receita operacional total (direta + indireta)</th>\n",
       "      <th>...</th>\n",
       "      <th>QD025 - Tempo total de execução dos serviços</th>\n",
       "      <th>TB011 - Quantidade de empregados administrativos dos agentes públicos (Antigo campo GE050)</th>\n",
       "      <th>TB012 - Quantidade de empregados administrativos dos agentes privados (Antigo campo GE051)</th>\n",
       "      <th>POPULAÇÃO ESTIMADA</th>\n",
       "      <th>Autarquia</th>\n",
       "      <th>Administração pública direta</th>\n",
       "      <th>Sociedade de economia mista com administração pública</th>\n",
       "      <th>Empresa privada</th>\n",
       "      <th>Empresa pública</th>\n",
       "      <th>Organização social</th>\n",
       "    </tr>\n",
       "  </thead>\n",
       "  <tbody>\n",
       "    <tr>\n",
       "      <th>15</th>\n",
       "      <td>Rio Branco</td>\n",
       "      <td>AC</td>\n",
       "      <td>[12004000] Departamento Estadual de Pavimentaç...</td>\n",
       "      <td>Água e Esgoto | Res. Sólidos</td>\n",
       "      <td>Autarquia | Administração pública direta</td>\n",
       "      <td>47213039.47</td>\n",
       "      <td>38247595.47</td>\n",
       "      <td>8965444.00</td>\n",
       "      <td>421632.30</td>\n",
       "      <td>47634671.77</td>\n",
       "      <td>...</td>\n",
       "      <td>54912.00</td>\n",
       "      <td>12.0</td>\n",
       "      <td>22.0</td>\n",
       "      <td>407319.0</td>\n",
       "      <td>1</td>\n",
       "      <td>1</td>\n",
       "      <td>0</td>\n",
       "      <td>0</td>\n",
       "      <td>0</td>\n",
       "      <td>0</td>\n",
       "    </tr>\n",
       "    <tr>\n",
       "      <th>23</th>\n",
       "      <td>Anadia</td>\n",
       "      <td>AL</td>\n",
       "      <td>[27043000] Companhia de Saneamento de Alagoas ...</td>\n",
       "      <td>Água</td>\n",
       "      <td>Sociedade de economia mista com administração ...</td>\n",
       "      <td>1646496.24</td>\n",
       "      <td>1646496.24</td>\n",
       "      <td>NaN</td>\n",
       "      <td>99912.05</td>\n",
       "      <td>1746408.29</td>\n",
       "      <td>...</td>\n",
       "      <td>800.00</td>\n",
       "      <td>NaN</td>\n",
       "      <td>NaN</td>\n",
       "      <td>17545.0</td>\n",
       "      <td>0</td>\n",
       "      <td>0</td>\n",
       "      <td>1</td>\n",
       "      <td>0</td>\n",
       "      <td>0</td>\n",
       "      <td>0</td>\n",
       "    </tr>\n",
       "    <tr>\n",
       "      <th>24</th>\n",
       "      <td>Arapiraca</td>\n",
       "      <td>AL</td>\n",
       "      <td>[27043000] Companhia de Saneamento de Alagoas ...</td>\n",
       "      <td>Água e Esgoto | Res. Sólidos</td>\n",
       "      <td>Sociedade de economia mista com administração ...</td>\n",
       "      <td>52839484.70</td>\n",
       "      <td>52309070.31</td>\n",
       "      <td>530414.39</td>\n",
       "      <td>4158027.15</td>\n",
       "      <td>56997511.85</td>\n",
       "      <td>...</td>\n",
       "      <td>292752.00</td>\n",
       "      <td>5.0</td>\n",
       "      <td>5.0</td>\n",
       "      <td>231747.0</td>\n",
       "      <td>0</td>\n",
       "      <td>1</td>\n",
       "      <td>1</td>\n",
       "      <td>0</td>\n",
       "      <td>0</td>\n",
       "      <td>0</td>\n",
       "    </tr>\n",
       "    <tr>\n",
       "      <th>27</th>\n",
       "      <td>Barra de São Miguel</td>\n",
       "      <td>AL</td>\n",
       "      <td>[27043000] Companhia de Saneamento de Alagoas ...</td>\n",
       "      <td>Água e Esgoto | Res. Sólidos</td>\n",
       "      <td>Sociedade de economia mista com administração ...</td>\n",
       "      <td>5106808.70</td>\n",
       "      <td>4986971.89</td>\n",
       "      <td>119836.81</td>\n",
       "      <td>380497.77</td>\n",
       "      <td>5487306.47</td>\n",
       "      <td>...</td>\n",
       "      <td>1501.76</td>\n",
       "      <td>1.0</td>\n",
       "      <td>NaN</td>\n",
       "      <td>8322.0</td>\n",
       "      <td>0</td>\n",
       "      <td>1</td>\n",
       "      <td>1</td>\n",
       "      <td>0</td>\n",
       "      <td>0</td>\n",
       "      <td>0</td>\n",
       "    </tr>\n",
       "    <tr>\n",
       "      <th>28</th>\n",
       "      <td>Batalha</td>\n",
       "      <td>AL</td>\n",
       "      <td>[27043000] Companhia de Saneamento de Alagoas ...</td>\n",
       "      <td>Água e Esgoto | Res. Sólidos</td>\n",
       "      <td>Sociedade de economia mista com administração ...</td>\n",
       "      <td>3175641.43</td>\n",
       "      <td>2102583.93</td>\n",
       "      <td>1073057.50</td>\n",
       "      <td>240809.34</td>\n",
       "      <td>3416450.77</td>\n",
       "      <td>...</td>\n",
       "      <td>28080.00</td>\n",
       "      <td>3.0</td>\n",
       "      <td>NaN</td>\n",
       "      <td>18232.0</td>\n",
       "      <td>0</td>\n",
       "      <td>1</td>\n",
       "      <td>1</td>\n",
       "      <td>0</td>\n",
       "      <td>0</td>\n",
       "      <td>0</td>\n",
       "    </tr>\n",
       "  </tbody>\n",
       "</table>\n",
       "<p>5 rows × 50 columns</p>\n",
       "</div>"
      ],
      "text/plain": [
       "              Município Estado  \\\n",
       "15           Rio Branco     AC   \n",
       "23               Anadia     AL   \n",
       "24            Arapiraca     AL   \n",
       "27  Barra de São Miguel     AL   \n",
       "28              Batalha     AL   \n",
       "\n",
       "                                          Prestadores  \\\n",
       "15  [12004000] Departamento Estadual de Pavimentaç...   \n",
       "23  [27043000] Companhia de Saneamento de Alagoas ...   \n",
       "24  [27043000] Companhia de Saneamento de Alagoas ...   \n",
       "27  [27043000] Companhia de Saneamento de Alagoas ...   \n",
       "28  [27043000] Companhia de Saneamento de Alagoas ...   \n",
       "\n",
       "                        Serviços  \\\n",
       "15  Água e Esgoto | Res. Sólidos   \n",
       "23                          Água   \n",
       "24  Água e Esgoto | Res. Sólidos   \n",
       "27  Água e Esgoto | Res. Sólidos   \n",
       "28  Água e Esgoto | Res. Sólidos   \n",
       "\n",
       "                                    Natureza Jurídica  \\\n",
       "15           Autarquia | Administração pública direta   \n",
       "23  Sociedade de economia mista com administração ...   \n",
       "24  Sociedade de economia mista com administração ...   \n",
       "27  Sociedade de economia mista com administração ...   \n",
       "28  Sociedade de economia mista com administração ...   \n",
       "\n",
       "    FN001 - Receita operacional direta total  \\\n",
       "15                               47213039.47   \n",
       "23                                1646496.24   \n",
       "24                               52839484.70   \n",
       "27                                5106808.70   \n",
       "28                                3175641.43   \n",
       "\n",
       "    FN002 - Receita operacional direta de água  \\\n",
       "15                                 38247595.47   \n",
       "23                                  1646496.24   \n",
       "24                                 52309070.31   \n",
       "27                                  4986971.89   \n",
       "28                                  2102583.93   \n",
       "\n",
       "    FN003 - Receita operacional direta de esgoto  \\\n",
       "15                                    8965444.00   \n",
       "23                                           NaN   \n",
       "24                                     530414.39   \n",
       "27                                     119836.81   \n",
       "28                                    1073057.50   \n",
       "\n",
       "    FN004 - Receita operacional indireta  \\\n",
       "15                             421632.30   \n",
       "23                              99912.05   \n",
       "24                            4158027.15   \n",
       "27                             380497.77   \n",
       "28                             240809.34   \n",
       "\n",
       "    FN005 - Receita operacional total (direta + indireta)  ...  \\\n",
       "15                                        47634671.77      ...   \n",
       "23                                         1746408.29      ...   \n",
       "24                                        56997511.85      ...   \n",
       "27                                         5487306.47      ...   \n",
       "28                                         3416450.77      ...   \n",
       "\n",
       "    QD025 - Tempo total de execução dos serviços  \\\n",
       "15                                      54912.00   \n",
       "23                                        800.00   \n",
       "24                                     292752.00   \n",
       "27                                       1501.76   \n",
       "28                                      28080.00   \n",
       "\n",
       "    TB011 - Quantidade de empregados administrativos dos agentes públicos (Antigo campo GE050)  \\\n",
       "15                                               12.0                                            \n",
       "23                                                NaN                                            \n",
       "24                                                5.0                                            \n",
       "27                                                1.0                                            \n",
       "28                                                3.0                                            \n",
       "\n",
       "    TB012 - Quantidade de empregados administrativos dos agentes privados (Antigo campo GE051)  \\\n",
       "15                                               22.0                                            \n",
       "23                                                NaN                                            \n",
       "24                                                5.0                                            \n",
       "27                                                NaN                                            \n",
       "28                                                NaN                                            \n",
       "\n",
       "    POPULAÇÃO ESTIMADA  Autarquia  Administração pública direta  \\\n",
       "15            407319.0          1                             1   \n",
       "23             17545.0          0                             0   \n",
       "24            231747.0          0                             1   \n",
       "27              8322.0          0                             1   \n",
       "28             18232.0          0                             1   \n",
       "\n",
       "    Sociedade de economia mista com administração pública  Empresa privada  \\\n",
       "15                                                  0                    0   \n",
       "23                                                  1                    0   \n",
       "24                                                  1                    0   \n",
       "27                                                  1                    0   \n",
       "28                                                  1                    0   \n",
       "\n",
       "    Empresa pública  Organização social  \n",
       "15                0                   0  \n",
       "23                0                   0  \n",
       "24                0                   0  \n",
       "27                0                   0  \n",
       "28                0                   0  \n",
       "\n",
       "[5 rows x 50 columns]"
      ]
     },
     "execution_count": 23,
     "metadata": {},
     "output_type": "execute_result"
    }
   ],
   "source": [
    "df_SNIS_pop.head()"
   ]
  },
  {
   "cell_type": "code",
   "execution_count": 24,
   "id": "f661b121",
   "metadata": {},
   "outputs": [],
   "source": [
    "df_normalizado = df_SNIS_pop[['Município', 'Estado', 'Prestadores', 'Natureza Jurídica',\n",
    "                             'Autarquia', 'Administração pública direta',\n",
    "                             'Sociedade de economia mista com administração pública',\n",
    "                             'Empresa privada', 'Empresa pública', 'Organização social',\n",
    "                             'POPULAÇÃO ESTIMADA']]"
   ]
  },
  {
   "cell_type": "code",
   "execution_count": 25,
   "id": "882fe90b",
   "metadata": {},
   "outputs": [
    {
     "name": "stderr",
     "output_type": "stream",
     "text": [
      "<ipython-input-25-32ba813e7e9b>:1: SettingWithCopyWarning: \n",
      "A value is trying to be set on a copy of a slice from a DataFrame.\n",
      "Try using .loc[row_indexer,col_indexer] = value instead\n",
      "\n",
      "See the caveats in the documentation: https://pandas.pydata.org/pandas-docs/stable/user_guide/indexing.html#returning-a-view-versus-a-copy\n",
      "  df_normalizado['Reclamacoes a cada 1000 habitantes'] = (df_SNIS_pop[\n"
     ]
    }
   ],
   "source": [
    "df_normalizado['Reclamacoes a cada 1000 habitantes'] = (df_SNIS_pop[\n",
    "    'QD023 - Quantidade de reclamações ou solicitações de serviços']/df_SNIS_pop[\n",
    "    'POPULAÇÃO ESTIMADA'])*1000\n",
    "                                                                                 "
   ]
  },
  {
   "cell_type": "code",
   "execution_count": 26,
   "id": "752f3783",
   "metadata": {},
   "outputs": [
    {
     "data": {
      "text/html": [
       "<div>\n",
       "<style scoped>\n",
       "    .dataframe tbody tr th:only-of-type {\n",
       "        vertical-align: middle;\n",
       "    }\n",
       "\n",
       "    .dataframe tbody tr th {\n",
       "        vertical-align: top;\n",
       "    }\n",
       "\n",
       "    .dataframe thead th {\n",
       "        text-align: right;\n",
       "    }\n",
       "</style>\n",
       "<table border=\"1\" class=\"dataframe\">\n",
       "  <thead>\n",
       "    <tr style=\"text-align: right;\">\n",
       "      <th></th>\n",
       "      <th>Município</th>\n",
       "      <th>Estado</th>\n",
       "      <th>Prestadores</th>\n",
       "      <th>Natureza Jurídica</th>\n",
       "      <th>Autarquia</th>\n",
       "      <th>Administração pública direta</th>\n",
       "      <th>Sociedade de economia mista com administração pública</th>\n",
       "      <th>Empresa privada</th>\n",
       "      <th>Empresa pública</th>\n",
       "      <th>Organização social</th>\n",
       "      <th>POPULAÇÃO ESTIMADA</th>\n",
       "      <th>Reclamacoes a cada 1000 habitantes</th>\n",
       "    </tr>\n",
       "  </thead>\n",
       "  <tbody>\n",
       "    <tr>\n",
       "      <th>2652</th>\n",
       "      <td>Itatuba</td>\n",
       "      <td>PB</td>\n",
       "      <td>[25075000] Companhia de Águas e Esgotos da Par...</td>\n",
       "      <td>Administração pública direta | Sociedade de ec...</td>\n",
       "      <td>0</td>\n",
       "      <td>1</td>\n",
       "      <td>1</td>\n",
       "      <td>0</td>\n",
       "      <td>0</td>\n",
       "      <td>0</td>\n",
       "      <td>10962.0</td>\n",
       "      <td>20059.478197</td>\n",
       "    </tr>\n",
       "    <tr>\n",
       "      <th>2624</th>\n",
       "      <td>Coxixola</td>\n",
       "      <td>PB</td>\n",
       "      <td>[25075000] Companhia de Águas e Esgotos da Par...</td>\n",
       "      <td>Sociedade de economia mista com administração ...</td>\n",
       "      <td>0</td>\n",
       "      <td>1</td>\n",
       "      <td>1</td>\n",
       "      <td>0</td>\n",
       "      <td>0</td>\n",
       "      <td>0</td>\n",
       "      <td>1921.0</td>\n",
       "      <td>10619.989589</td>\n",
       "    </tr>\n",
       "  </tbody>\n",
       "</table>\n",
       "</div>"
      ],
      "text/plain": [
       "     Município Estado                                        Prestadores  \\\n",
       "2652   Itatuba     PB  [25075000] Companhia de Águas e Esgotos da Par...   \n",
       "2624  Coxixola     PB  [25075000] Companhia de Águas e Esgotos da Par...   \n",
       "\n",
       "                                      Natureza Jurídica  Autarquia  \\\n",
       "2652  Administração pública direta | Sociedade de ec...          0   \n",
       "2624  Sociedade de economia mista com administração ...          0   \n",
       "\n",
       "      Administração pública direta  \\\n",
       "2652                             1   \n",
       "2624                             1   \n",
       "\n",
       "      Sociedade de economia mista com administração pública  Empresa privada  \\\n",
       "2652                                                  1                    0   \n",
       "2624                                                  1                    0   \n",
       "\n",
       "      Empresa pública  Organização social  POPULAÇÃO ESTIMADA  \\\n",
       "2652                0                   0             10962.0   \n",
       "2624                0                   0              1921.0   \n",
       "\n",
       "      Reclamacoes a cada 1000 habitantes  \n",
       "2652                        20059.478197  \n",
       "2624                        10619.989589  "
      ]
     },
     "execution_count": 26,
     "metadata": {},
     "output_type": "execute_result"
    }
   ],
   "source": [
    "# Municipios com maior numero de reclamacoes\n",
    "df_normalizado.sort_values(by=['Reclamacoes a cada 1000 habitantes'], ascending=False).head(2)"
   ]
  },
  {
   "cell_type": "code",
   "execution_count": 93,
   "id": "d16fa557",
   "metadata": {},
   "outputs": [
    {
     "data": {
      "text/plain": [
       "'[25075000] Companhia de Águas e Esgotos da Paraíba - CAGEPA | [25072011] Prefeitura Municipal de Itatuba - PMI | [25072040] Prefeitura Municipal de Itatuba - PMI'"
      ]
     },
     "execution_count": 93,
     "metadata": {},
     "output_type": "execute_result"
    }
   ],
   "source": [
    "df_normalizado.sort_values(by=[\n",
    "    'Reclamacoes a cada 1000 habitantes'], ascending=False).head(2)['Prestadores'].iloc[0]"
   ]
  },
  {
   "cell_type": "code",
   "execution_count": 27,
   "id": "beec4c1f",
   "metadata": {},
   "outputs": [
    {
     "data": {
      "image/png": "[encoded data removed]",
      "text/plain": [
       "<Figure size 432x288 with 1 Axes>"
      ]
     },
     "metadata": {
      "needs_background": "light"
     },
     "output_type": "display_data"
    }
   ],
   "source": [
    "ax = df_normalizado.sort_values(by=[\n",
    "    'Reclamacoes a cada 1000 habitantes'], ascending=False).head(10).plot.bar(\n",
    "    x='Município', y='Reclamacoes a cada 1000 habitantes', rot=45,\n",
    "    title=\"Municípios com maior número de reclamações\")"
   ]
  },
  {
   "cell_type": "code",
   "execution_count": 28,
   "id": "d6581cac",
   "metadata": {},
   "outputs": [],
   "source": [
    "df_normalizado2 = df_normalizado.dropna(subset=['Reclamacoes a cada 1000 habitantes'])"
   ]
  },
  {
   "cell_type": "code",
   "execution_count": 29,
   "id": "35d52d8e",
   "metadata": {},
   "outputs": [],
   "source": [
    "def create_dict_reclamacoes_natureza():\n",
    "    recl_nat = {}\n",
    "    for nat3 in naturezas_unique:\n",
    "        recl_nat[nat3] = df_normalizado2[\n",
    "            df_normalizado2[nat3] == 1][\n",
    "            'Reclamacoes a cada 1000 habitantes'].mean()\n",
    "    return recl_nat\n",
    "        \n",
    "recl_nat = create_dict_reclamacoes_natureza()"
   ]
  },
  {
   "cell_type": "code",
   "execution_count": 30,
   "id": "b6ad02cf",
   "metadata": {},
   "outputs": [
    {
     "data": {
      "text/plain": [
       "Empresa privada                                          535.596558\n",
       "Organização social                                       396.855865\n",
       "Administração pública direta                             278.932423\n",
       "Sociedade de economia mista com administração pública    277.979150\n",
       "Empresa pública                                          225.930170\n",
       "Autarquia                                                190.696682\n",
       "dtype: float64"
      ]
     },
     "execution_count": 30,
     "metadata": {},
     "output_type": "execute_result"
    }
   ],
   "source": [
    "recl_nat_pd = pd.Series(recl_nat)\n",
    "recl_nat_pd.sort_values(ascending=False)\n",
    "# ax2 = recl_nat_pd.sort_values(ascending=False).plot.bar(\n",
    "#     x='index', y='Reclamacoes a cada 1000 habitantes', rot=45,\n",
    "#     title=\"Municípios com maior número de reclamações\")"
   ]
  },
  {
   "cell_type": "code",
   "execution_count": 31,
   "id": "0636dc2a",
   "metadata": {},
   "outputs": [
    {
     "data": {
      "image/png": "[encoded data removed]",
      "text/plain": [
       "<Figure size 432x288 with 1 Axes>"
      ]
     },
     "metadata": {
      "needs_background": "light"
     },
     "output_type": "display_data"
    }
   ],
   "source": [
    "import matplotlib.pyplot as plt\n",
    "recl_nat_pd.sort_values(ascending=False).plot(kind='bar')\n",
    "plt.title('Média de reclamações por natureza jurídica')\n",
    "plt.ylabel('Média de reclamações')\n",
    "plt.xticks(rotation=80);"
   ]
  },
  {
   "cell_type": "markdown",
   "id": "9ec6f605",
   "metadata": {},
   "source": [
    "# Média de reclamações por cada uma das empresas"
   ]
  },
  {
   "cell_type": "code",
   "execution_count": 71,
   "id": "0e926b80",
   "metadata": {},
   "outputs": [],
   "source": [
    "maiores_empresas = ['sabesp', 'cedae', 'copasa', 'sanepar', 'corsan', 'embasa',\n",
    "                   'compesa', 'saneago', 'caesb', 'cagece', 'brk']"
   ]
  },
  {
   "cell_type": "code",
   "execution_count": 72,
   "id": "d4b1ac57",
   "metadata": {},
   "outputs": [],
   "source": [
    "def create_empresas(empresa):\n",
    "    empresas_bin = []\n",
    "    for empresas in df_SNIS_pop['Prestadores']:\n",
    "        if empresa in empresas.lower():\n",
    "            empresas_bin.append(1)\n",
    "        else:\n",
    "            empresas_bin.append(0)\n",
    "    df_SNIS_pop[empresa] = empresas_bin\n",
    "    return df_SNIS_pop[empresa]"
   ]
  },
  {
   "cell_type": "code",
   "execution_count": 73,
   "id": "551340b5",
   "metadata": {},
   "outputs": [],
   "source": [
    "for emp in maiores_empresas:\n",
    "    create_empresas(emp)"
   ]
  },
  {
   "cell_type": "code",
   "execution_count": 84,
   "id": "a84e76e1",
   "metadata": {},
   "outputs": [
    {
     "name": "stderr",
     "output_type": "stream",
     "text": [
      "<ipython-input-84-f89b6dc59836>:10: SettingWithCopyWarning: \n",
      "A value is trying to be set on a copy of a slice from a DataFrame.\n",
      "Try using .loc[row_indexer,col_indexer] = value instead\n",
      "\n",
      "See the caveats in the documentation: https://pandas.pydata.org/pandas-docs/stable/user_guide/indexing.html#returning-a-view-versus-a-copy\n",
      "  df_normalizado_empresas['Reclamacoes a cada 1000 habitantes'] = df_normalizado2[\n"
     ]
    }
   ],
   "source": [
    "def normalizar_empresas():\n",
    "    df_normalizado_empresas = df_SNIS_pop[['Município', 'Estado', 'Prestadores', 'Natureza Jurídica',\n",
    "                                             'Autarquia', 'Administração pública direta',\n",
    "                                             'Sociedade de economia mista com administração pública',\n",
    "                                             'Empresa privada', 'Empresa pública', 'Organização social',\n",
    "                                             'POPULAÇÃO ESTIMADA', 'sabesp', 'cedae', 'copasa', 'sanepar',\n",
    "                                              'corsan', 'embasa', 'compesa', 'saneago', 'caesb', 'cagece', \n",
    "                                              'brk']]\n",
    "\n",
    "    df_normalizado_empresas['Reclamacoes a cada 1000 habitantes'] = df_normalizado2[\n",
    "        'Reclamacoes a cada 1000 habitantes']\n",
    "\n",
    "    df_normalizado_empresas = df_normalizado_empresas.dropna(subset=['Reclamacoes a cada 1000 habitantes'])\n",
    "    return df_normalizado_empresas\n",
    "\n",
    "df_normalizado_empresas = normalizar_empresas()"
   ]
  },
  {
   "cell_type": "code",
   "execution_count": 94,
   "id": "29f5d759",
   "metadata": {},
   "outputs": [],
   "source": [
    "def create_dict_reclamacoes_empresas():\n",
    "    recl_empresas = {}\n",
    "    for emp in maiores_empresas:\n",
    "        recl_empresas[emp] = df_normalizado_empresas[df_normalizado_empresas[emp] == 1][\n",
    "            'Reclamacoes a cada 1000 habitantes'].mean()\n",
    "        \n",
    "    recl_empresas_pd = pd.Series(recl_empresas)\n",
    "    \n",
    "    return recl_empresas_pd.sort_values(ascending=False)\n",
    "        \n",
    "recl_empresas_pd = create_dict_reclamacoes_empresas()"
   ]
  },
  {
   "cell_type": "code",
   "execution_count": 95,
   "id": "0dd09ba6",
   "metadata": {},
   "outputs": [
    {
     "data": {
      "image/png": "[encoded data removed]",
      "text/plain": [
       "<Figure size 432x288 with 1 Axes>"
      ]
     },
     "metadata": {
      "needs_background": "light"
     },
     "output_type": "display_data"
    }
   ],
   "source": [
    "recl_empresas_pd.sort_values(ascending=False).plot(kind='bar')\n",
    "plt.title('Média de reclamações por empresa')\n",
    "plt.ylabel('Média de reclamações')\n",
    "plt.xticks(rotation=90);"
   ]
  },
  {
   "cell_type": "markdown",
   "id": "e07fa697",
   "metadata": {},
   "source": [
    "# Media de reclamações por estado"
   ]
  },
  {
   "cell_type": "code",
   "execution_count": 96,
   "id": "267e21de",
   "metadata": {},
   "outputs": [
    {
     "data": {
      "text/plain": [
       "array(['AC', 'AL', 'AM', 'AP', 'BA', 'CE', 'DF', 'ES', 'GO', 'MA', 'MG',\n",
       "       'MS', 'MT', 'PA', 'PB', 'PE', 'PI', 'PR', 'RJ', 'RN', 'RO', 'RR',\n",
       "       'RS', 'SC', 'SE', 'SP', 'TO'], dtype=object)"
      ]
     },
     "execution_count": 96,
     "metadata": {},
     "output_type": "execute_result"
    }
   ],
   "source": [
    "df_SNIS_pop['Estado'].unique()"
   ]
  },
  {
   "cell_type": "code",
   "execution_count": 100,
   "id": "87158ef9",
   "metadata": {},
   "outputs": [
    {
     "data": {
      "text/plain": [
       "Estado\n",
       "PB    622.154792\n",
       "BA    597.362562\n",
       "TO    492.799290\n",
       "MS    492.012758\n",
       "MT    377.900252\n",
       "GO    316.525271\n",
       "RS    315.074850\n",
       "PR    289.629322\n",
       "MG    282.908528\n",
       "SP    211.525642\n",
       "Name: Reclamacoes a cada 1000 habitantes, dtype: float64"
      ]
     },
     "execution_count": 100,
     "metadata": {},
     "output_type": "execute_result"
    }
   ],
   "source": [
    "# faremos groupby 'Estado' e iremos obter a media de reclamacoes por estado\n",
    "\n",
    "df_normalizado_empresas.groupby('Estado').mean()[\n",
    "    'Reclamacoes a cada 1000 habitantes'].sort_values(ascending=False)[:10]"
   ]
  },
  {
   "cell_type": "code",
   "execution_count": 103,
   "id": "0c397b57",
   "metadata": {},
   "outputs": [
    {
     "data": {
      "image/png": "[encoded data removed]",
      "text/plain": [
       "<Figure size 432x288 with 1 Axes>"
      ]
     },
     "metadata": {
      "needs_background": "light"
     },
     "output_type": "display_data"
    }
   ],
   "source": [
    "df_normalizado_empresas.groupby('Estado').mean()[\n",
    "    'Reclamacoes a cada 1000 habitantes'].sort_values(\n",
    "    ascending=False)[:10].plot(kind='bar')\n",
    "plt.title('Média de reclamações por estado (mais reclamações)')\n",
    "plt.ylabel('Média de reclamações a cada 1000 habitantes')\n",
    "plt.xticks(rotation=90);"
   ]
  },
  {
   "cell_type": "code",
   "execution_count": 110,
   "id": "efba41a3",
   "metadata": {},
   "outputs": [
    {
     "name": "stderr",
     "output_type": "stream",
     "text": [
      "<ipython-input-110-f4b8c9160092>:6: MatplotlibDeprecationWarning: Adding an axes using the same arguments as a previous axes currently reuses the earlier instance.  In a future version, a new instance will always be created and returned.  Meanwhile, this warning can be suppressed, and the future behavior ensured, by passing a unique label to each axes instance.\n",
      "  axes = plt.axes()\n"
     ]
    },
    {
     "data": {
      "image/png": "[encoded data removed]",
      "text/plain": [
       "<Figure size 432x288 with 1 Axes>"
      ]
     },
     "metadata": {
      "needs_background": "light"
     },
     "output_type": "display_data"
    }
   ],
   "source": [
    "df_normalizado_empresas.groupby('Estado').mean()[\n",
    "    'Reclamacoes a cada 1000 habitantes'].sort_values(\n",
    "    ascending=False)[-12:-2].plot(kind='bar')\n",
    "plt.title('Média de reclamações por estado (menos reclamações)')\n",
    "plt.ylabel('Média de reclamações a cada 1000 habitantes')\n",
    "axes = plt.axes()\n",
    "axes.set_ylim([0, 600])\n",
    "plt.xticks(rotation=90);"
   ]
  },
  {
   "cell_type": "markdown",
   "id": "3943ec24",
   "metadata": {},
   "source": [
    "# Quantidades de extravasamentos de esgotos registrados"
   ]
  },
  {
   "cell_type": "markdown",
   "id": "8db8d877",
   "metadata": {},
   "source": [
    "# Por estado"
   ]
  },
  {
   "cell_type": "code",
   "execution_count": 111,
   "id": "cdc2379e",
   "metadata": {},
   "outputs": [],
   "source": [
    "df_normalizado_empresas['Extravasamentos de esgotos registrados a cada 1000 habitantes'] = (df_SNIS_pop[\n",
    "    'QD011 - Quantidades de extravasamentos de esgotos registrados']/df_SNIS_pop[\n",
    "    'POPULAÇÃO ESTIMADA'])*1000"
   ]
  },
  {
   "cell_type": "code",
   "execution_count": 115,
   "id": "9143728a",
   "metadata": {},
   "outputs": [
    {
     "data": {
      "image/png": "[encoded data removed]",
      "text/plain": [
       "<Figure size 432x288 with 1 Axes>"
      ]
     },
     "metadata": {
      "needs_background": "light"
     },
     "output_type": "display_data"
    }
   ],
   "source": [
    "df_normalizado_empresas.groupby('Estado').mean()[\n",
    "    'Extravasamentos de esgotos registrados a cada 1000 habitantes'].sort_values(\n",
    "    ascending=False)[:10].plot(kind='bar')\n",
    "\n",
    "plt.title('Média de extravasamentos de esgotos registrados por estado (mais extravasamentos)')\n",
    "plt.ylabel('Média de extravasamentos a cada 1k hab')\n",
    "plt.xticks(rotation=90);"
   ]
  },
  {
   "cell_type": "code",
   "execution_count": 116,
   "id": "1f5620dd",
   "metadata": {},
   "outputs": [
    {
     "data": {
      "image/png": "[encoded data removed]",
      "text/plain": [
       "<Figure size 432x288 with 1 Axes>"
      ]
     },
     "metadata": {
      "needs_background": "light"
     },
     "output_type": "display_data"
    }
   ],
   "source": [
    "df_normalizado_empresas.groupby('Estado').mean()[\n",
    "    'Extravasamentos de esgotos registrados a cada 1000 habitantes'].sort_values(\n",
    "    ascending=False)[-10:-2].plot(kind='bar')\n",
    "\n",
    "plt.title('Média de extravasamentos de esgotos registrados por estado (menos extravasamentos)')\n",
    "plt.ylabel('Média de extravasamentos a cada 1k hab')\n",
    "plt.xticks(rotation=90);"
   ]
  },
  {
   "cell_type": "markdown",
   "id": "3ca8302b",
   "metadata": {},
   "source": [
    "# Natureza juridica"
   ]
  },
  {
   "cell_type": "code",
   "execution_count": 118,
   "id": "b43ddb46",
   "metadata": {},
   "outputs": [
    {
     "data": {
      "text/plain": [
       "Autarquia                                                4.699073\n",
       "Administração pública direta                             5.707928\n",
       "Sociedade de economia mista com administração pública    5.946059\n",
       "Empresa privada                                          3.686006\n",
       "Empresa pública                                          8.608552\n",
       "Organização social                                            NaN\n",
       "dtype: float64"
      ]
     },
     "execution_count": 118,
     "metadata": {},
     "output_type": "execute_result"
    }
   ],
   "source": [
    "def create_series_extravasamentos_natureza():\n",
    "    extrav_nat = {}\n",
    "    for nat3 in naturezas_unique:\n",
    "        extrav_nat[nat3] = df_normalizado_empresas[\n",
    "            df_normalizado2[nat3] == 1][\n",
    "            'Extravasamentos de esgotos registrados a cada 1000 habitantes'].mean()\n",
    "        \n",
    "    extrav_nat_pd = pd.Series(extrav_nat)\n",
    "    extrav_nat_pd.sort_values(ascending=False)\n",
    "    \n",
    "    return extrav_nat_pd\n",
    "        \n",
    "extrav_nat_pd = create_series_extravasamentos_natureza()\n",
    "\n",
    "# ax2 = recl_nat_pd.sort_values(ascending=False).plot.bar(\n",
    "#     x='index', y='Reclamacoes a cada 1000 habitantes', rot=45,\n",
    "#     title=\"Municípios com maior número de reclamações\")\n",
    "extrav_nat_pd"
   ]
  },
  {
   "cell_type": "code",
   "execution_count": 123,
   "id": "b41334cc",
   "metadata": {},
   "outputs": [
    {
     "data": {
      "image/png": "[encoded data removed]",
      "text/plain": [
       "<Figure size 432x288 with 1 Axes>"
      ]
     },
     "metadata": {
      "needs_background": "light"
     },
     "output_type": "display_data"
    }
   ],
   "source": [
    "extrav_nat_pd.sort_values(ascending=False)[:-1].plot(kind='bar')\n",
    "plt.title('Média de extravasamentos por natureza jurídica')\n",
    "plt.ylabel('Média de extravasamentos a cada 1000 hab')\n",
    "plt.xticks(rotation=90);"
   ]
  },
  {
   "cell_type": "markdown",
   "id": "f02b74a9",
   "metadata": {},
   "source": [
    "# Empresas"
   ]
  },
  {
   "cell_type": "code",
   "execution_count": 124,
   "id": "05b73b06",
   "metadata": {},
   "outputs": [],
   "source": [
    "def create_series_reclamacoes_empresas():\n",
    "    extrav_empresas = {}\n",
    "    for emp in maiores_empresas:\n",
    "        extrav_empresas[emp] = df_normalizado_empresas[df_normalizado_empresas[emp] == 1][\n",
    "            'Extravasamentos de esgotos registrados a cada 1000 habitantes'].mean()\n",
    "        \n",
    "    extrav_empresas_pd = pd.Series(extrav_empresas)\n",
    "    \n",
    "    return extrav_empresas_pd.sort_values(ascending=False)\n",
    "        \n",
    "extrav_empresas_pd = create_series_reclamacoes_empresas()"
   ]
  },
  {
   "cell_type": "code",
   "execution_count": 125,
   "id": "d247789c",
   "metadata": {},
   "outputs": [
    {
     "data": {
      "text/plain": [
       "copasa     10.198533\n",
       "embasa      9.794579\n",
       "saneago     8.488900\n",
       "compesa     5.078048\n",
       "cagece      2.822177\n",
       "sabesp      1.824398\n",
       "cedae       1.489847\n",
       "brk         1.343662\n",
       "corsan      1.294161\n",
       "sanepar     0.288569\n",
       "caesb       0.014103\n",
       "dtype: float64"
      ]
     },
     "execution_count": 125,
     "metadata": {},
     "output_type": "execute_result"
    }
   ],
   "source": [
    "extrav_empresas_pd"
   ]
  },
  {
   "cell_type": "code",
   "execution_count": 127,
   "id": "38d00681",
   "metadata": {},
   "outputs": [
    {
     "data": {
      "image/png": "[encoded data removed]",
      "text/plain": [
       "<Figure size 432x288 with 1 Axes>"
      ]
     },
     "metadata": {
      "needs_background": "light"
     },
     "output_type": "display_data"
    }
   ],
   "source": [
    "extrav_empresas_pd[:-1].plot(kind='bar')\n",
    "plt.title('Média de extravasamentos por empresa')\n",
    "plt.ylabel('Média de extravasamentos a cada 1000 habitantes')\n",
    "plt.xticks(rotation=90);"
   ]
  },
  {
   "cell_type": "markdown",
   "id": "b23e70e6",
   "metadata": {},
   "source": [
    "# Quantidade de interrupções sistemáticas"
   ]
  },
  {
   "cell_type": "markdown",
   "id": "75b55d54",
   "metadata": {},
   "source": [
    "# Estado"
   ]
  },
  {
   "cell_type": "code",
   "execution_count": 128,
   "id": "fcc79454",
   "metadata": {},
   "outputs": [],
   "source": [
    "df_normalizado_empresas['Quantidade de interrupções sistemáticas a cada 1000 habitantes'] = (df_SNIS_pop[\n",
    "    'QD021 - Quantidade de interrupções sistemáticas']/df_SNIS_pop[\n",
    "    'POPULAÇÃO ESTIMADA'])*1000"
   ]
  },
  {
   "cell_type": "code",
   "execution_count": 139,
   "id": "67b71332",
   "metadata": {},
   "outputs": [
    {
     "data": {
      "image/png": "[encoded data removed]",
      "text/plain": [
       "<Figure size 432x288 with 1 Axes>"
      ]
     },
     "metadata": {
      "needs_background": "light"
     },
     "output_type": "display_data"
    }
   ],
   "source": [
    "df_normalizado_empresas.groupby('Estado').mean()[\n",
    "    'Quantidade de interrupções sistemáticas a cada 1000 habitantes'].sort_values(\n",
    "    ascending=False)[:10].plot(kind='bar')\n",
    "\n",
    "plt.title('Média de de interrupções sistemáticas (mais interrupções)')\n",
    "plt.ylabel('Média de interrupções sistemáticas a cada 1000 habitantes')\n",
    "plt.xticks(rotation=90);"
   ]
  },
  {
   "cell_type": "code",
   "execution_count": 140,
   "id": "e46f1f7c",
   "metadata": {},
   "outputs": [
    {
     "data": {
      "image/png": "[encoded data removed]",
      "text/plain": [
       "<Figure size 432x288 with 1 Axes>"
      ]
     },
     "metadata": {
      "needs_background": "light"
     },
     "output_type": "display_data"
    }
   ],
   "source": [
    "df_normalizado_empresas.groupby('Estado').mean()[\n",
    "    'Quantidade de interrupções sistemáticas a cada 1000 habitantes'].sort_values(\n",
    "    ascending=False)[-15:-4].plot(kind='bar')\n",
    "\n",
    "plt.title('Média de de interrupções sistemáticas (menos interr)')\n",
    "plt.ylabel('Média de interrupções sistemáticas a cada 1000 habitantes')\n",
    "plt.xticks(rotation=90);"
   ]
  },
  {
   "cell_type": "markdown",
   "id": "e1d5018b",
   "metadata": {},
   "source": [
    "# Natureza jurídica "
   ]
  },
  {
   "cell_type": "code",
   "execution_count": 133,
   "id": "bfb3bdb3",
   "metadata": {},
   "outputs": [],
   "source": [
    "def create_series_interrupcoes_natureza():\n",
    "    interr_nat = {}\n",
    "    for nat3 in naturezas_unique:\n",
    "        interr_nat[nat3] = df_normalizado_empresas[\n",
    "            df_normalizado_empresas[nat3] == 1][\n",
    "            'Quantidade de interrupções sistemáticas a cada 1000 habitantes'].mean()\n",
    "        \n",
    "    interr_nat_pd = pd.Series(interr_nat)\n",
    "    interr_nat_pd.sort_values(ascending=False)\n",
    "    \n",
    "    return interr_nat_pd\n",
    "        \n",
    "interr_nat_pd = create_series_interrupcoes_natureza()"
   ]
  },
  {
   "cell_type": "code",
   "execution_count": 138,
   "id": "fe197056",
   "metadata": {},
   "outputs": [
    {
     "data": {
      "image/png": "[encoded data removed]",
      "text/plain": [
       "<Figure size 432x288 with 1 Axes>"
      ]
     },
     "metadata": {
      "needs_background": "light"
     },
     "output_type": "display_data"
    }
   ],
   "source": [
    "interr_nat_pd.sort_values(ascending=False)[:-1].plot(kind='bar')\n",
    "plt.title('Média de interrupções por natureza jurídica')\n",
    "plt.ylabel('Média de interrupções sistemáticas a cada 1000 hab')\n",
    "plt.xticks(rotation=90);"
   ]
  },
  {
   "cell_type": "markdown",
   "id": "d4a7f8ae",
   "metadata": {},
   "source": [
    "# Empresas"
   ]
  },
  {
   "cell_type": "code",
   "execution_count": 141,
   "id": "0bba44d3",
   "metadata": {},
   "outputs": [],
   "source": [
    "def create_series_interrupcoes_empresas():\n",
    "    interr_empresas = {}\n",
    "    for emp in maiores_empresas:\n",
    "        interr_empresas[emp] = df_normalizado_empresas[df_normalizado_empresas[emp] == 1][\n",
    "            'Quantidade de interrupções sistemáticas a cada 1000 habitantes'].mean()\n",
    "        \n",
    "    interr_empresas_pd = pd.Series(interr_empresas)\n",
    "    \n",
    "    return interr_empresas_pd.sort_values(ascending=False)\n",
    "        \n",
    "interr_empresas_pd = create_series_interrupcoes_empresas()"
   ]
  },
  {
   "cell_type": "code",
   "execution_count": 144,
   "id": "bd09ffc8",
   "metadata": {},
   "outputs": [
    {
     "data": {
      "image/png": "[encoded data removed]",
      "text/plain": [
       "<Figure size 432x288 with 1 Axes>"
      ]
     },
     "metadata": {
      "needs_background": "light"
     },
     "output_type": "display_data"
    }
   ],
   "source": [
    "interr_empresas_pd[:-2].plot(kind='bar')\n",
    "plt.title('Média de interrupções sistemáticas por empresa')\n",
    "plt.ylabel('Média de interrupções a cada 1000 habitantes')\n",
    "plt.xticks(rotation=90);"
   ]
  },
  {
   "cell_type": "markdown",
   "id": "887bf9f8",
   "metadata": {},
   "source": [
    "# Quantidade de serviços executados"
   ]
  },
  {
   "cell_type": "code",
   "execution_count": 145,
   "id": "cb261473",
   "metadata": {},
   "outputs": [],
   "source": [
    "df_normalizado_empresas['Quantidade de serviços executados a cada 1000 habitantes'] = (df_SNIS_pop[\n",
    "    'QD024 - Quantidade de serviços executados']/df_SNIS_pop[\n",
    "    'POPULAÇÃO ESTIMADA'])*1000"
   ]
  },
  {
   "cell_type": "markdown",
   "id": "60aecfd8",
   "metadata": {},
   "source": [
    "# Por estado"
   ]
  },
  {
   "cell_type": "code",
   "execution_count": 147,
   "id": "f9dd033e",
   "metadata": {},
   "outputs": [
    {
     "data": {
      "image/png": "[encoded data removed]",
      "text/plain": [
       "<Figure size 432x288 with 1 Axes>"
      ]
     },
     "metadata": {
      "needs_background": "light"
     },
     "output_type": "display_data"
    }
   ],
   "source": [
    "df_normalizado_empresas.groupby('Estado').mean()[\n",
    "    'Quantidade de serviços executados a cada 1000 habitantes'].sort_values(\n",
    "    ascending=False)[:10].plot(kind='bar')\n",
    "\n",
    "plt.title('Média de serviços executados por estado (mais serviços)')\n",
    "plt.ylabel('Média de serviços executados a cada 1k hab')\n",
    "plt.xticks(rotation=90);"
   ]
  },
  {
   "cell_type": "code",
   "execution_count": 148,
   "id": "1231a68c",
   "metadata": {},
   "outputs": [
    {
     "data": {
      "image/png": "[encoded data removed]",
      "text/plain": [
       "<Figure size 432x288 with 1 Axes>"
      ]
     },
     "metadata": {
      "needs_background": "light"
     },
     "output_type": "display_data"
    }
   ],
   "source": [
    "df_normalizado_empresas.groupby('Estado').mean()[\n",
    "    'Quantidade de serviços executados a cada 1000 habitantes'].sort_values(\n",
    "    ascending=False)[-11:].plot(kind='bar')\n",
    "\n",
    "plt.title('Média de serviços executados por estado (menos serviços)')\n",
    "plt.ylabel('Média de serviços executados a cada 1k hab')\n",
    "plt.xticks(rotation=90);"
   ]
  },
  {
   "cell_type": "markdown",
   "id": "2ceff7df",
   "metadata": {},
   "source": [
    "# Natureza juridica"
   ]
  },
  {
   "cell_type": "code",
   "execution_count": 149,
   "id": "12fc3f14",
   "metadata": {},
   "outputs": [],
   "source": [
    "def create_series_servicos_natureza():\n",
    "    serv_nat = {}\n",
    "    for nat3 in naturezas_unique:\n",
    "        serv_nat[nat3] = df_normalizado_empresas[\n",
    "            df_normalizado_empresas[nat3] == 1][\n",
    "            'Quantidade de serviços executados a cada 1000 habitantes'].mean()\n",
    "        \n",
    "    serv_nat_pd = pd.Series(serv_nat)    \n",
    "    \n",
    "    return serv_nat_pd.sort_values(ascending=False)\n",
    "        \n",
    "serv_nat_pd = create_series_extravasamentos_natureza()"
   ]
  },
  {
   "cell_type": "code",
   "execution_count": 150,
   "id": "788ee37a",
   "metadata": {},
   "outputs": [
    {
     "data": {
      "image/png": "[encoded data removed]",
      "text/plain": [
       "<Figure size 432x288 with 1 Axes>"
      ]
     },
     "metadata": {
      "needs_background": "light"
     },
     "output_type": "display_data"
    }
   ],
   "source": [
    "serv_nat_pd.sort_values(ascending=False)[:-1].plot(kind='bar')\n",
    "plt.title('Média de serviços executados por natureza jurídica')\n",
    "plt.ylabel('Média de serviços executados a cada 1000 hab')\n",
    "plt.xticks(rotation=90);"
   ]
  },
  {
   "cell_type": "markdown",
   "id": "b10ea9a1",
   "metadata": {},
   "source": [
    "# Empresas"
   ]
  },
  {
   "cell_type": "code",
   "execution_count": 151,
   "id": "8f20828f",
   "metadata": {},
   "outputs": [],
   "source": [
    "def create_series_servicos_empresas():\n",
    "    servicos_empresas = {}\n",
    "    for emp in maiores_empresas:\n",
    "        servicos_empresas[emp] = df_normalizado_empresas[df_normalizado_empresas[emp] == 1][\n",
    "            'Quantidade de serviços executados a cada 1000 habitantes'].mean()\n",
    "        \n",
    "    servicos_empresas_pd = pd.Series(servicos_empresas)\n",
    "    \n",
    "    return servicos_empresas_pd.sort_values(ascending=False)\n",
    "        \n",
    "servicos_empresas_pd = create_series_reclamacoes_empresas()"
   ]
  },
  {
   "cell_type": "code",
   "execution_count": 153,
   "id": "26ef4fc2",
   "metadata": {},
   "outputs": [
    {
     "data": {
      "image/png": "[encoded data removed]",
      "text/plain": [
       "<Figure size 432x288 with 1 Axes>"
      ]
     },
     "metadata": {
      "needs_background": "light"
     },
     "output_type": "display_data"
    }
   ],
   "source": [
    "servicos_empresas_pd[:-1].plot(kind='bar')\n",
    "plt.title('Média de serviços executados por empresa')\n",
    "plt.ylabel('Média de serviços executados a cada 1000 habitantes')\n",
    "plt.xticks(rotation=90);"
   ]
  },
  {
   "cell_type": "markdown",
   "id": "a71b0bfc",
   "metadata": {},
   "source": [
    "# Desempenho operacional da BRK por municipio"
   ]
  },
  {
   "cell_type": "code",
   "execution_count": 167,
   "id": "542f2bb9",
   "metadata": {},
   "outputs": [],
   "source": [
    "brk = df_normalizado_empresas[df_normalizado_empresas['brk'] == 1]\n",
    "brk = brk[['Município', 'Reclamacoes a cada 1000 habitantes', \n",
    "    'Extravasamentos de esgotos registrados a cada 1000 habitantes',\n",
    "    'Quantidade de interrupções sistemáticas a cada 1000 habitantes',\n",
    "    'Quantidade de serviços executados a cada 1000 habitantes']]\n",
    "\n",
    "brk = brk.set_index('Município')"
   ]
  },
  {
   "cell_type": "markdown",
   "id": "685b2d3b",
   "metadata": {},
   "source": [
    "o dataframe brk possui apenas dados dos municipios nos quais a brk atua"
   ]
  },
  {
   "cell_type": "code",
   "execution_count": 168,
   "id": "2cc41d37",
   "metadata": {},
   "outputs": [
    {
     "data": {
      "text/html": [
       "<div>\n",
       "<style scoped>\n",
       "    .dataframe tbody tr th:only-of-type {\n",
       "        vertical-align: middle;\n",
       "    }\n",
       "\n",
       "    .dataframe tbody tr th {\n",
       "        vertical-align: top;\n",
       "    }\n",
       "\n",
       "    .dataframe thead th {\n",
       "        text-align: right;\n",
       "    }\n",
       "</style>\n",
       "<table border=\"1\" class=\"dataframe\">\n",
       "  <thead>\n",
       "    <tr style=\"text-align: right;\">\n",
       "      <th></th>\n",
       "      <th>Reclamacoes a cada 1000 habitantes</th>\n",
       "      <th>Extravasamentos de esgotos registrados a cada 1000 habitantes</th>\n",
       "      <th>Quantidade de interrupções sistemáticas a cada 1000 habitantes</th>\n",
       "      <th>Quantidade de serviços executados a cada 1000 habitantes</th>\n",
       "    </tr>\n",
       "    <tr>\n",
       "      <th>Município</th>\n",
       "      <th></th>\n",
       "      <th></th>\n",
       "      <th></th>\n",
       "      <th></th>\n",
       "    </tr>\n",
       "  </thead>\n",
       "  <tbody>\n",
       "    <tr>\n",
       "      <th>Cachoeiro de Itapemirim</th>\n",
       "      <td>104.411117</td>\n",
       "      <td>0.011973</td>\n",
       "      <td>NaN</td>\n",
       "      <td>58.802136</td>\n",
       "    </tr>\n",
       "    <tr>\n",
       "      <th>Paço do Lumiar</th>\n",
       "      <td>175.478940</td>\n",
       "      <td>5.916676</td>\n",
       "      <td>0.294606</td>\n",
       "      <td>142.458489</td>\n",
       "    </tr>\n",
       "    <tr>\n",
       "      <th>São José de Ribamar</th>\n",
       "      <td>253.862128</td>\n",
       "      <td>3.162865</td>\n",
       "      <td>0.163208</td>\n",
       "      <td>210.381176</td>\n",
       "    </tr>\n",
       "    <tr>\n",
       "      <th>Bom Jesus do Tocantins</th>\n",
       "      <td>224.780637</td>\n",
       "      <td>NaN</td>\n",
       "      <td>0.176668</td>\n",
       "      <td>175.784701</td>\n",
       "    </tr>\n",
       "    <tr>\n",
       "      <th>Redenção</th>\n",
       "      <td>358.474766</td>\n",
       "      <td>NaN</td>\n",
       "      <td>0.436388</td>\n",
       "      <td>193.178199</td>\n",
       "    </tr>\n",
       "  </tbody>\n",
       "</table>\n",
       "</div>"
      ],
      "text/plain": [
       "                         Reclamacoes a cada 1000 habitantes  \\\n",
       "Município                                                     \n",
       "Cachoeiro de Itapemirim                          104.411117   \n",
       "Paço do Lumiar                                   175.478940   \n",
       "São José de Ribamar                              253.862128   \n",
       "Bom Jesus do Tocantins                           224.780637   \n",
       "Redenção                                         358.474766   \n",
       "\n",
       "                         Extravasamentos de esgotos registrados a cada 1000 habitantes  \\\n",
       "Município                                                                                \n",
       "Cachoeiro de Itapemirim                                           0.011973               \n",
       "Paço do Lumiar                                                    5.916676               \n",
       "São José de Ribamar                                               3.162865               \n",
       "Bom Jesus do Tocantins                                                 NaN               \n",
       "Redenção                                                               NaN               \n",
       "\n",
       "                         Quantidade de interrupções sistemáticas a cada 1000 habitantes  \\\n",
       "Município                                                                                 \n",
       "Cachoeiro de Itapemirim                                                NaN                \n",
       "Paço do Lumiar                                                    0.294606                \n",
       "São José de Ribamar                                               0.163208                \n",
       "Bom Jesus do Tocantins                                            0.176668                \n",
       "Redenção                                                          0.436388                \n",
       "\n",
       "                         Quantidade de serviços executados a cada 1000 habitantes  \n",
       "Município                                                                          \n",
       "Cachoeiro de Itapemirim                                          58.802136         \n",
       "Paço do Lumiar                                                  142.458489         \n",
       "São José de Ribamar                                             210.381176         \n",
       "Bom Jesus do Tocantins                                          175.784701         \n",
       "Redenção                                                        193.178199         "
      ]
     },
     "execution_count": 168,
     "metadata": {},
     "output_type": "execute_result"
    }
   ],
   "source": [
    "brk.head()"
   ]
  },
  {
   "cell_type": "code",
   "execution_count": 171,
   "id": "d6a78afb",
   "metadata": {},
   "outputs": [
    {
     "data": {
      "image/png": "[encoded data removed]",
      "text/plain": [
       "<Figure size 432x288 with 1 Axes>"
      ]
     },
     "metadata": {
      "needs_background": "light"
     },
     "output_type": "display_data"
    }
   ],
   "source": [
    "brk['Reclamacoes a cada 1000 habitantes'].sort_values(ascending=False).plot(kind='bar')\n",
    "plt.title('Reclamações/solicitações de serviços')\n",
    "plt.ylabel('Reclamacoes/solicitações a cada 1000 habitantes')\n",
    "plt.xticks(rotation=90);"
   ]
  },
  {
   "cell_type": "code",
   "execution_count": 183,
   "id": "1b01d9ce",
   "metadata": {},
   "outputs": [
    {
     "data": {
      "image/png": "[encoded data removed]",
      "text/plain": [
       "<Figure size 432x288 with 1 Axes>"
      ]
     },
     "metadata": {
      "needs_background": "light"
     },
     "output_type": "display_data"
    }
   ],
   "source": [
    "brk['Extravasamentos de esgotos registrados a cada 1000 habitantes'].dropna().sort_values(\n",
    "    ascending=False).plot(kind='bar')\n",
    "plt.title('Extravasamentos de esgotos registrados')\n",
    "plt.ylabel('Extravasamentos de esgotos registrados a cada 1000 habitantes')\n",
    "plt.xticks(rotation=90);"
   ]
  },
  {
   "cell_type": "code",
   "execution_count": 184,
   "id": "80cd4b0b",
   "metadata": {},
   "outputs": [
    {
     "data": {
      "image/png": "[encoded data removed]",
      "text/plain": [
       "<Figure size 432x288 with 1 Axes>"
      ]
     },
     "metadata": {
      "needs_background": "light"
     },
     "output_type": "display_data"
    }
   ],
   "source": [
    "brk['Quantidade de interrupções sistemáticas a cada 1000 habitantes'].dropna().sort_values(\n",
    "    ascending=False).plot(kind='bar')\n",
    "plt.title('Quantidade de interrupções sistemáticas')\n",
    "plt.ylabel('Quantidade de interrupções a cada 1000 habitantes')\n",
    "plt.xticks(rotation=90);"
   ]
  },
  {
   "cell_type": "code",
   "execution_count": 185,
   "id": "00abca5c",
   "metadata": {},
   "outputs": [
    {
     "data": {
      "image/png": "[encoded data removed]",
      "text/plain": [
       "<Figure size 432x288 with 1 Axes>"
      ]
     },
     "metadata": {
      "needs_background": "light"
     },
     "output_type": "display_data"
    }
   ],
   "source": [
    "brk['Quantidade de serviços executados a cada 1000 habitantes'].dropna().sort_values(\n",
    "    ascending=False).plot(kind='bar')\n",
    "plt.title('Quantidade de serviços executados')\n",
    "plt.ylabel('Quantidade de serviços executados a cada 1000 habitantes')\n",
    "plt.xticks(rotation=90);"
   ]
  },
  {
   "cell_type": "code",
   "execution_count": null,
   "id": "f70b91af",
   "metadata": {},
   "outputs": [],
   "source": []
  },
  {
   "cell_type": "code",
   "execution_count": null,
   "id": "f9ed7219",
   "metadata": {},
   "outputs": [],
   "source": []
  },
  {
   "cell_type": "code",
   "execution_count": null,
   "id": "07e38697",
   "metadata": {},
   "outputs": [],
   "source": []
  }
 ],
 "metadata": {
  "kernelspec": {
   "display_name": "Python 3",
   "language": "python",
   "name": "python3"
  },
  "language_info": {
   "codemirror_mode": {
    "name": "ipython",
    "version": 3
   },
   "file_extension": ".py",
   "mimetype": "text/x-python",
   "name": "python",
   "nbconvert_exporter": "python",
   "pygments_lexer": "ipython3",
   "version": "3.8.8"
  }
 },
 "nbformat": 4,
 "nbformat_minor": 5
}
